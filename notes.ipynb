{
 "cells": [
  {
   "cell_type": "code",
   "execution_count": 2,
   "metadata": {
    "vscode": {
     "languageId": "r"
    }
   },
   "outputs": [],
   "source": [
    "library(dplyr)\n",
    "library(ggplot2)"
   ]
  },
  {
   "cell_type": "code",
   "execution_count": 3,
   "metadata": {
    "vscode": {
     "languageId": "r"
    }
   },
   "outputs": [
    {
     "data": {
      "text/html": [
       "<table class=\"dataframe\">\n",
       "<caption>A data.frame: 2938 × 22</caption>\n",
       "<thead>\n",
       "\t<tr><th scope=col>country</th><th scope=col>year</th><th scope=col>status</th><th scope=col>life_expectancy</th><th scope=col>adult_mortality</th><th scope=col>infant_deaths</th><th scope=col>alcohol</th><th scope=col>percentage_expenditure</th><th scope=col>hepatitis_B</th><th scope=col>measles</th><th scope=col>⋯</th><th scope=col>polio</th><th scope=col>total_expenditure</th><th scope=col>diphtheria</th><th scope=col>HIV_AIDS</th><th scope=col>GDP</th><th scope=col>population</th><th scope=col>thinness_1_19_years</th><th scope=col>thinness_5_9_years</th><th scope=col>income_composition_of_resources</th><th scope=col>schooling</th></tr>\n",
       "\t<tr><th scope=col>&lt;chr&gt;</th><th scope=col>&lt;int&gt;</th><th scope=col>&lt;chr&gt;</th><th scope=col>&lt;dbl&gt;</th><th scope=col>&lt;int&gt;</th><th scope=col>&lt;int&gt;</th><th scope=col>&lt;dbl&gt;</th><th scope=col>&lt;dbl&gt;</th><th scope=col>&lt;int&gt;</th><th scope=col>&lt;int&gt;</th><th scope=col>⋯</th><th scope=col>&lt;int&gt;</th><th scope=col>&lt;dbl&gt;</th><th scope=col>&lt;int&gt;</th><th scope=col>&lt;dbl&gt;</th><th scope=col>&lt;dbl&gt;</th><th scope=col>&lt;dbl&gt;</th><th scope=col>&lt;dbl&gt;</th><th scope=col>&lt;dbl&gt;</th><th scope=col>&lt;dbl&gt;</th><th scope=col>&lt;dbl&gt;</th></tr>\n",
       "</thead>\n",
       "<tbody>\n",
       "\t<tr><td>Afghanistan</td><td>2015</td><td>Developing</td><td>65.0</td><td>263</td><td>62</td><td>0.01</td><td> 71.279624</td><td>65</td><td>1154</td><td>⋯</td><td> 6</td><td>8.16</td><td>65</td><td>0.1</td><td> 584.25921</td><td>33736494</td><td>17.2</td><td>17.3</td><td>0.479</td><td>10.1</td></tr>\n",
       "\t<tr><td>Afghanistan</td><td>2014</td><td>Developing</td><td>59.9</td><td>271</td><td>64</td><td>0.01</td><td> 73.523582</td><td>62</td><td> 492</td><td>⋯</td><td>58</td><td>8.18</td><td>62</td><td>0.1</td><td> 612.69651</td><td>  327582</td><td>17.5</td><td>17.5</td><td>0.476</td><td>10.0</td></tr>\n",
       "\t<tr><td>Afghanistan</td><td>2013</td><td>Developing</td><td>59.9</td><td>268</td><td>66</td><td>0.01</td><td> 73.219243</td><td>64</td><td> 430</td><td>⋯</td><td>62</td><td>8.13</td><td>64</td><td>0.1</td><td> 631.74498</td><td>31731688</td><td>17.7</td><td>17.7</td><td>0.470</td><td> 9.9</td></tr>\n",
       "\t<tr><td>Afghanistan</td><td>2012</td><td>Developing</td><td>59.5</td><td>272</td><td>69</td><td>0.01</td><td> 78.184215</td><td>67</td><td>2787</td><td>⋯</td><td>67</td><td>8.52</td><td>67</td><td>0.1</td><td> 669.95900</td><td> 3696958</td><td>17.9</td><td>18.0</td><td>0.463</td><td> 9.8</td></tr>\n",
       "\t<tr><td>Afghanistan</td><td>2011</td><td>Developing</td><td>59.2</td><td>275</td><td>71</td><td>0.01</td><td>  7.097109</td><td>68</td><td>3013</td><td>⋯</td><td>68</td><td>7.87</td><td>68</td><td>0.1</td><td>  63.53723</td><td> 2978599</td><td>18.2</td><td>18.2</td><td>0.454</td><td> 9.5</td></tr>\n",
       "\t<tr><td>Afghanistan</td><td>2010</td><td>Developing</td><td>58.8</td><td>279</td><td>74</td><td>0.01</td><td> 79.679367</td><td>66</td><td>1989</td><td>⋯</td><td>66</td><td>9.20</td><td>66</td><td>0.1</td><td> 553.32894</td><td> 2883167</td><td>18.4</td><td>18.4</td><td>0.448</td><td> 9.2</td></tr>\n",
       "\t<tr><td>Afghanistan</td><td>2009</td><td>Developing</td><td>58.6</td><td>281</td><td>77</td><td>0.01</td><td> 56.762217</td><td>63</td><td>2861</td><td>⋯</td><td>63</td><td>9.42</td><td>63</td><td>0.1</td><td> 445.89330</td><td>  284331</td><td>18.6</td><td>18.7</td><td>0.434</td><td> 8.9</td></tr>\n",
       "\t<tr><td>Afghanistan</td><td>2008</td><td>Developing</td><td>58.1</td><td>287</td><td>80</td><td>0.03</td><td> 25.873925</td><td>64</td><td>1599</td><td>⋯</td><td>64</td><td>8.33</td><td>64</td><td>0.1</td><td> 373.36112</td><td> 2729431</td><td>18.8</td><td>18.9</td><td>0.433</td><td> 8.7</td></tr>\n",
       "\t<tr><td>Afghanistan</td><td>2007</td><td>Developing</td><td>57.5</td><td>295</td><td>82</td><td>0.02</td><td> 10.910156</td><td>63</td><td>1141</td><td>⋯</td><td>63</td><td>6.73</td><td>63</td><td>0.1</td><td> 369.83580</td><td>26616792</td><td>19.0</td><td>19.1</td><td>0.415</td><td> 8.4</td></tr>\n",
       "\t<tr><td>Afghanistan</td><td>2006</td><td>Developing</td><td>57.3</td><td>295</td><td>84</td><td>0.03</td><td> 17.171518</td><td>64</td><td>1990</td><td>⋯</td><td>58</td><td>7.43</td><td>58</td><td>0.1</td><td> 272.56377</td><td> 2589345</td><td>19.2</td><td>19.3</td><td>0.405</td><td> 8.1</td></tr>\n",
       "\t<tr><td>Afghanistan</td><td>2005</td><td>Developing</td><td>57.3</td><td>291</td><td>85</td><td>0.02</td><td>  1.388648</td><td>66</td><td>1296</td><td>⋯</td><td>58</td><td>8.70</td><td>58</td><td>0.1</td><td>  25.29413</td><td>  257798</td><td>19.3</td><td>19.5</td><td>0.396</td><td> 7.9</td></tr>\n",
       "\t<tr><td>Afghanistan</td><td>2004</td><td>Developing</td><td>57.0</td><td>293</td><td>87</td><td>0.02</td><td> 15.296066</td><td>67</td><td> 466</td><td>⋯</td><td> 5</td><td>8.79</td><td> 5</td><td>0.1</td><td> 219.14135</td><td>24118979</td><td>19.5</td><td>19.7</td><td>0.381</td><td> 6.8</td></tr>\n",
       "\t<tr><td>Afghanistan</td><td>2003</td><td>Developing</td><td>56.7</td><td>295</td><td>87</td><td>0.01</td><td> 11.089053</td><td>65</td><td> 798</td><td>⋯</td><td>41</td><td>8.82</td><td>41</td><td>0.1</td><td> 198.72854</td><td> 2364851</td><td>19.7</td><td>19.9</td><td>0.373</td><td> 6.5</td></tr>\n",
       "\t<tr><td>Afghanistan</td><td>2002</td><td>Developing</td><td>56.2</td><td>  3</td><td>88</td><td>0.01</td><td> 16.887351</td><td>64</td><td>2486</td><td>⋯</td><td>36</td><td>7.76</td><td>36</td><td>0.1</td><td> 187.84595</td><td>21979923</td><td>19.9</td><td> 2.2</td><td>0.341</td><td> 6.2</td></tr>\n",
       "\t<tr><td>Afghanistan</td><td>2001</td><td>Developing</td><td>55.3</td><td>316</td><td>88</td><td>0.01</td><td> 10.574728</td><td>63</td><td>8762</td><td>⋯</td><td>35</td><td>7.80</td><td>33</td><td>0.1</td><td> 117.49698</td><td> 2966463</td><td> 2.1</td><td> 2.4</td><td>0.340</td><td> 5.9</td></tr>\n",
       "\t<tr><td>Afghanistan</td><td>2000</td><td>Developing</td><td>54.8</td><td>321</td><td>88</td><td>0.01</td><td> 10.424960</td><td>62</td><td>6532</td><td>⋯</td><td>24</td><td>8.20</td><td>24</td><td>0.1</td><td> 114.56000</td><td>  293756</td><td> 2.3</td><td> 2.5</td><td>0.338</td><td> 5.5</td></tr>\n",
       "\t<tr><td>Albania    </td><td>2015</td><td>Developing</td><td>77.8</td><td> 74</td><td> 0</td><td>4.60</td><td>364.975229</td><td>99</td><td>   0</td><td>⋯</td><td>99</td><td>6.00</td><td>99</td><td>0.1</td><td>3954.22783</td><td>   28873</td><td> 1.2</td><td> 1.3</td><td>0.762</td><td>14.2</td></tr>\n",
       "\t<tr><td>Albania    </td><td>2014</td><td>Developing</td><td>77.5</td><td>  8</td><td> 0</td><td>4.51</td><td>428.749067</td><td>98</td><td>   0</td><td>⋯</td><td>98</td><td>5.88</td><td>98</td><td>0.1</td><td>4575.76379</td><td>  288914</td><td> 1.2</td><td> 1.3</td><td>0.761</td><td>14.2</td></tr>\n",
       "\t<tr><td>Albania    </td><td>2013</td><td>Developing</td><td>77.2</td><td> 84</td><td> 0</td><td>4.76</td><td>430.876979</td><td>99</td><td>   0</td><td>⋯</td><td>99</td><td>5.66</td><td>99</td><td>0.1</td><td>4414.72314</td><td>  289592</td><td> 1.3</td><td> 1.4</td><td>0.759</td><td>14.2</td></tr>\n",
       "\t<tr><td>Albania    </td><td>2012</td><td>Developing</td><td>76.9</td><td> 86</td><td> 0</td><td>5.14</td><td>412.443356</td><td>99</td><td>   9</td><td>⋯</td><td>99</td><td>5.59</td><td>99</td><td>0.1</td><td>4247.61438</td><td>    2941</td><td> 1.3</td><td> 1.4</td><td>0.752</td><td>14.2</td></tr>\n",
       "\t<tr><td>Albania    </td><td>2011</td><td>Developing</td><td>76.6</td><td> 88</td><td> 0</td><td>5.37</td><td>437.062100</td><td>99</td><td>  28</td><td>⋯</td><td>99</td><td>5.71</td><td>99</td><td>0.1</td><td>4437.17868</td><td>  295195</td><td> 1.4</td><td> 1.5</td><td>0.738</td><td>13.3</td></tr>\n",
       "\t<tr><td>Albania    </td><td>2010</td><td>Developing</td><td>76.2</td><td> 91</td><td> 1</td><td>5.28</td><td> 41.822757</td><td>99</td><td>  10</td><td>⋯</td><td>99</td><td>5.34</td><td>99</td><td>0.1</td><td> 494.35883</td><td>  291321</td><td> 1.4</td><td> 1.5</td><td>0.725</td><td>12.5</td></tr>\n",
       "\t<tr><td>Albania    </td><td>2009</td><td>Developing</td><td>76.1</td><td> 91</td><td> 1</td><td>5.79</td><td>348.055952</td><td>98</td><td>   0</td><td>⋯</td><td>98</td><td>5.79</td><td>98</td><td>0.1</td><td>4114.13655</td><td> 2927519</td><td> 1.5</td><td> 1.6</td><td>0.721</td><td>12.2</td></tr>\n",
       "\t<tr><td>Albania    </td><td>2008</td><td>Developing</td><td>75.3</td><td>  1</td><td> 1</td><td>5.61</td><td> 36.622068</td><td>99</td><td>   0</td><td>⋯</td><td>99</td><td>5.87</td><td>99</td><td>0.1</td><td> 437.53965</td><td> 2947314</td><td> 1.6</td><td> 1.6</td><td>0.713</td><td>12.0</td></tr>\n",
       "\t<tr><td>Albania    </td><td>2007</td><td>Developing</td><td>75.9</td><td>  9</td><td> 1</td><td>5.58</td><td> 32.246552</td><td>98</td><td>  22</td><td>⋯</td><td>99</td><td>6.10</td><td>98</td><td>0.1</td><td> 363.13685</td><td>   29717</td><td> 1.6</td><td> 1.7</td><td>0.703</td><td>11.6</td></tr>\n",
       "\t<tr><td>Albania    </td><td>2006</td><td>Developing</td><td>74.2</td><td> 99</td><td> 1</td><td>5.31</td><td>  3.302154</td><td>98</td><td>  68</td><td>⋯</td><td>97</td><td>5.86</td><td>97</td><td>0.1</td><td>  35.12930</td><td> 2992547</td><td> 1.7</td><td> 1.8</td><td>0.696</td><td>11.4</td></tr>\n",
       "\t<tr><td>Albania    </td><td>2005</td><td>Developing</td><td>73.5</td><td> 15</td><td> 1</td><td>5.16</td><td> 26.993121</td><td>98</td><td>   6</td><td>⋯</td><td>97</td><td>6.12</td><td>98</td><td>0.1</td><td> 279.14293</td><td>  311487</td><td> 1.8</td><td> 1.8</td><td>0.685</td><td>10.8</td></tr>\n",
       "\t<tr><td>Albania    </td><td>2004</td><td>Developing</td><td>73.0</td><td> 17</td><td> 1</td><td>4.54</td><td>221.842800</td><td>99</td><td>   7</td><td>⋯</td><td>98</td><td>6.38</td><td>97</td><td>0.1</td><td>2416.58824</td><td>  326939</td><td> 1.8</td><td> 1.9</td><td>0.681</td><td>10.9</td></tr>\n",
       "\t<tr><td>Albania    </td><td>2003</td><td>Developing</td><td>72.8</td><td> 18</td><td> 1</td><td>4.29</td><td> 14.719289</td><td>97</td><td>   8</td><td>⋯</td><td>97</td><td>6.27</td><td>97</td><td>0.1</td><td> 189.68156</td><td>  339616</td><td> 1.9</td><td> 2.0</td><td>0.674</td><td>10.7</td></tr>\n",
       "\t<tr><td>Albania    </td><td>2002</td><td>Developing</td><td>73.3</td><td> 15</td><td> 1</td><td>3.73</td><td>104.516916</td><td>96</td><td>  16</td><td>⋯</td><td>98</td><td>6.30</td><td>98</td><td>0.1</td><td>1453.64278</td><td>    3511</td><td> 2.0</td><td> 2.1</td><td>0.670</td><td>10.7</td></tr>\n",
       "\t<tr><td>⋮</td><td>⋮</td><td>⋮</td><td>⋮</td><td>⋮</td><td>⋮</td><td>⋮</td><td>⋮</td><td>⋮</td><td>⋮</td><td>⋱</td><td>⋮</td><td>⋮</td><td>⋮</td><td>⋮</td><td>⋮</td><td>⋮</td><td>⋮</td><td>⋮</td><td>⋮</td><td>⋮</td></tr>\n",
       "\t<tr><td>Zambia  </td><td>2013</td><td>Developing</td><td>63.0</td><td>328</td><td>29</td><td>2.41</td><td> 20.623063</td><td>79</td><td>   35</td><td>⋯</td><td>74</td><td>4.99</td><td>79</td><td> 4.8</td><td> 185.79336</td><td> 1515321</td><td> 6.4</td><td> 6.2</td><td>0.565</td><td>12.5</td></tr>\n",
       "\t<tr><td>Zambia  </td><td>2012</td><td>Developing</td><td>59.2</td><td>349</td><td>29</td><td>2.59</td><td>196.915250</td><td>78</td><td>  896</td><td>⋯</td><td> 7</td><td>4.91</td><td>78</td><td> 5.6</td><td>1734.93612</td><td>14699937</td><td> 6.5</td><td> 6.3</td><td>0.554</td><td>12.3</td></tr>\n",
       "\t<tr><td>Zambia  </td><td>2011</td><td>Developing</td><td>58.2</td><td>366</td><td>29</td><td>2.57</td><td>183.046169</td><td>81</td><td>13234</td><td>⋯</td><td>83</td><td>4.26</td><td>81</td><td> 6.3</td><td>1644.61967</td><td>14264756</td><td> 6.6</td><td> 6.4</td><td>0.543</td><td>12.0</td></tr>\n",
       "\t<tr><td>Zambia  </td><td>2010</td><td>Developing</td><td>58.0</td><td>363</td><td>30</td><td>2.47</td><td>184.364910</td><td>83</td><td>15754</td><td>⋯</td><td> 8</td><td>4.41</td><td>83</td><td> 6.8</td><td>1463.21357</td><td>  138533</td><td> 6.7</td><td> 6.5</td><td>0.533</td><td>11.8</td></tr>\n",
       "\t<tr><td>Zambia  </td><td>2009</td><td>Developing</td><td>57.4</td><td>368</td><td>30</td><td>2.30</td><td>143.869887</td><td>94</td><td>   26</td><td>⋯</td><td>93</td><td>4.73</td><td>94</td><td> 9.1</td><td>1139.11233</td><td>13456417</td><td> 6.7</td><td> 6.6</td><td>0.518</td><td>11.6</td></tr>\n",
       "\t<tr><td>Zambia  </td><td>2008</td><td>Developing</td><td>55.7</td><td> 45</td><td>31</td><td>2.12</td><td>153.678375</td><td>87</td><td>  140</td><td>⋯</td><td> 9</td><td>4.87</td><td>87</td><td>11.9</td><td>1369.68249</td><td> 1382517</td><td> 6.8</td><td> 6.7</td><td>0.504</td><td>11.4</td></tr>\n",
       "\t<tr><td>Zambia  </td><td>2007</td><td>Developing</td><td>52.6</td><td>487</td><td>32</td><td>2.08</td><td> 10.851482</td><td> 8</td><td>  535</td><td>⋯</td><td>77</td><td>4.37</td><td> 8</td><td>13.6</td><td> 114.58799</td><td>12725974</td><td> 6.9</td><td> 6.8</td><td>0.492</td><td>11.1</td></tr>\n",
       "\t<tr><td>Zambia  </td><td>2006</td><td>Developing</td><td>58.0</td><td>526</td><td>33</td><td>2.25</td><td>  1.860004</td><td>81</td><td>  459</td><td>⋯</td><td>83</td><td>6.11</td><td>81</td><td>15.9</td><td>  13.15420</td><td>12383446</td><td> 7.0</td><td> 6.9</td><td>0.479</td><td>10.9</td></tr>\n",
       "\t<tr><td>Zambia  </td><td>2005</td><td>Developing</td><td>49.3</td><td>554</td><td>34</td><td>2.33</td><td>121.879331</td><td>82</td><td>   45</td><td>⋯</td><td>84</td><td>7.56</td><td>82</td><td>17.0</td><td> 691.31782</td><td> 1252156</td><td> 7.1</td><td> 7.0</td><td>0.467</td><td>10.7</td></tr>\n",
       "\t<tr><td>Zambia  </td><td>2004</td><td>Developing</td><td>47.9</td><td>578</td><td>36</td><td>2.46</td><td>  8.369852</td><td>NA</td><td>   35</td><td>⋯</td><td>84</td><td>7.33</td><td>83</td><td>17.6</td><td>  53.27722</td><td>11731746</td><td> 7.2</td><td> 7.1</td><td>0.456</td><td>10.5</td></tr>\n",
       "\t<tr><td>Zambia  </td><td>2003</td><td>Developing</td><td>46.4</td><td> 64</td><td>39</td><td>2.33</td><td> 65.789974</td><td>NA</td><td>  881</td><td>⋯</td><td>85</td><td>8.18</td><td>83</td><td>18.2</td><td> 429.15834</td><td>11421984</td><td> 7.3</td><td> 7.2</td><td>0.443</td><td>10.2</td></tr>\n",
       "\t<tr><td>Zambia  </td><td>2002</td><td>Developing</td><td>45.5</td><td> 69</td><td>41</td><td>2.44</td><td> 54.043480</td><td>NA</td><td>25036</td><td>⋯</td><td>85</td><td>6.93</td><td>84</td><td>18.4</td><td> 377.13524</td><td>  111249</td><td> 7.4</td><td> 7.3</td><td>0.433</td><td>10.0</td></tr>\n",
       "\t<tr><td>Zambia  </td><td>2001</td><td>Developing</td><td>44.6</td><td>611</td><td>43</td><td>2.61</td><td> 46.830275</td><td>NA</td><td>16997</td><td>⋯</td><td>86</td><td>6.56</td><td>85</td><td>18.6</td><td> 378.27362</td><td> 1824125</td><td> 7.4</td><td> 7.4</td><td>0.424</td><td> 9.8</td></tr>\n",
       "\t<tr><td>Zambia  </td><td>2000</td><td>Developing</td><td>43.8</td><td>614</td><td>44</td><td>2.62</td><td> 45.616880</td><td>NA</td><td>30930</td><td>⋯</td><td>85</td><td>7.16</td><td>85</td><td>18.7</td><td> 341.95562</td><td> 1531221</td><td> 7.5</td><td> 7.5</td><td>0.418</td><td> 9.6</td></tr>\n",
       "\t<tr><td>Zimbabwe</td><td>2015</td><td>Developing</td><td>67.0</td><td>336</td><td>22</td><td>  NA</td><td>  0.000000</td><td>87</td><td>    0</td><td>⋯</td><td>88</td><td>  NA</td><td>87</td><td> 6.2</td><td> 118.69383</td><td>15777451</td><td> 5.6</td><td> 5.5</td><td>0.507</td><td>10.3</td></tr>\n",
       "\t<tr><td>Zimbabwe</td><td>2014</td><td>Developing</td><td>59.2</td><td>371</td><td>23</td><td>6.50</td><td> 10.822595</td><td>91</td><td>    0</td><td>⋯</td><td>92</td><td>6.44</td><td>91</td><td> 6.3</td><td> 127.47462</td><td>15411675</td><td> 5.9</td><td> 5.7</td><td>0.498</td><td>10.3</td></tr>\n",
       "\t<tr><td>Zimbabwe</td><td>2013</td><td>Developing</td><td>58.0</td><td>399</td><td>25</td><td>6.39</td><td> 10.666707</td><td>95</td><td>    0</td><td>⋯</td><td>95</td><td>6.88</td><td>95</td><td> 6.8</td><td> 111.22740</td><td>  155456</td><td> 6.2</td><td> 6.0</td><td>0.488</td><td>10.4</td></tr>\n",
       "\t<tr><td>Zimbabwe</td><td>2012</td><td>Developing</td><td>56.6</td><td>429</td><td>26</td><td>6.09</td><td> 92.602336</td><td>97</td><td>    0</td><td>⋯</td><td>95</td><td>6.69</td><td>95</td><td> 8.8</td><td> 955.64847</td><td> 1471826</td><td> 6.5</td><td> 6.4</td><td>0.464</td><td> 9.8</td></tr>\n",
       "\t<tr><td>Zimbabwe</td><td>2011</td><td>Developing</td><td>54.9</td><td>464</td><td>28</td><td>6.00</td><td> 63.750530</td><td>94</td><td>    0</td><td>⋯</td><td>93</td><td>6.31</td><td>93</td><td>13.3</td><td> 839.92794</td><td>14386649</td><td> 6.8</td><td> 6.7</td><td>0.452</td><td>10.1</td></tr>\n",
       "\t<tr><td>Zimbabwe</td><td>2010</td><td>Developing</td><td>52.4</td><td>527</td><td>29</td><td>5.21</td><td> 53.308581</td><td> 9</td><td> 9696</td><td>⋯</td><td>89</td><td>5.37</td><td>89</td><td>15.7</td><td> 713.63562</td><td> 1486317</td><td> 7.1</td><td> 7.0</td><td>0.436</td><td>10.0</td></tr>\n",
       "\t<tr><td>Zimbabwe</td><td>2009</td><td>Developing</td><td>50.0</td><td>587</td><td>30</td><td>4.64</td><td>  1.040021</td><td>73</td><td>  853</td><td>⋯</td><td>69</td><td>6.26</td><td>73</td><td>18.1</td><td>  65.82412</td><td> 1381599</td><td> 7.5</td><td> 7.4</td><td>0.419</td><td> 9.9</td></tr>\n",
       "\t<tr><td>Zimbabwe</td><td>2008</td><td>Developing</td><td>48.2</td><td>632</td><td>30</td><td>3.56</td><td> 20.843429</td><td>75</td><td>    0</td><td>⋯</td><td>75</td><td>4.96</td><td>75</td><td>20.5</td><td> 325.67857</td><td>13558469</td><td> 7.8</td><td> 7.8</td><td>0.421</td><td> 9.7</td></tr>\n",
       "\t<tr><td>Zimbabwe</td><td>2007</td><td>Developing</td><td>46.6</td><td> 67</td><td>29</td><td>3.88</td><td> 29.814566</td><td>72</td><td>  242</td><td>⋯</td><td>73</td><td>4.47</td><td>73</td><td>23.7</td><td> 396.99822</td><td> 1332999</td><td> 8.2</td><td> 8.2</td><td>0.414</td><td> 9.6</td></tr>\n",
       "\t<tr><td>Zimbabwe</td><td>2006</td><td>Developing</td><td>45.4</td><td>  7</td><td>28</td><td>4.57</td><td> 34.262169</td><td>68</td><td>  212</td><td>⋯</td><td>71</td><td>5.12</td><td> 7</td><td>26.8</td><td> 414.79623</td><td>13124267</td><td> 8.6</td><td> 8.6</td><td>0.408</td><td> 9.5</td></tr>\n",
       "\t<tr><td>Zimbabwe</td><td>2005</td><td>Developing</td><td>44.6</td><td>717</td><td>28</td><td>4.14</td><td>  8.717409</td><td>65</td><td>  420</td><td>⋯</td><td>69</td><td>6.44</td><td>68</td><td>30.3</td><td> 444.76575</td><td>  129432</td><td> 9.0</td><td> 9.0</td><td>0.406</td><td> 9.3</td></tr>\n",
       "\t<tr><td>Zimbabwe</td><td>2004</td><td>Developing</td><td>44.3</td><td>723</td><td>27</td><td>4.36</td><td>  0.000000</td><td>68</td><td>   31</td><td>⋯</td><td>67</td><td>7.13</td><td>65</td><td>33.6</td><td> 454.36665</td><td>12777511</td><td> 9.4</td><td> 9.4</td><td>0.407</td><td> 9.2</td></tr>\n",
       "\t<tr><td>Zimbabwe</td><td>2003</td><td>Developing</td><td>44.5</td><td>715</td><td>26</td><td>4.06</td><td>  0.000000</td><td> 7</td><td>  998</td><td>⋯</td><td> 7</td><td>6.52</td><td>68</td><td>36.7</td><td> 453.35116</td><td>12633897</td><td> 9.8</td><td> 9.9</td><td>0.418</td><td> 9.5</td></tr>\n",
       "\t<tr><td>Zimbabwe</td><td>2002</td><td>Developing</td><td>44.8</td><td> 73</td><td>25</td><td>4.43</td><td>  0.000000</td><td>73</td><td>  304</td><td>⋯</td><td>73</td><td>6.53</td><td>71</td><td>39.8</td><td>  57.34834</td><td>  125525</td><td> 1.2</td><td> 1.3</td><td>0.427</td><td>10.0</td></tr>\n",
       "\t<tr><td>Zimbabwe</td><td>2001</td><td>Developing</td><td>45.3</td><td>686</td><td>25</td><td>1.72</td><td>  0.000000</td><td>76</td><td>  529</td><td>⋯</td><td>76</td><td>6.16</td><td>75</td><td>42.1</td><td> 548.58731</td><td>12366165</td><td> 1.6</td><td> 1.7</td><td>0.427</td><td> 9.8</td></tr>\n",
       "\t<tr><td>Zimbabwe</td><td>2000</td><td>Developing</td><td>46.0</td><td>665</td><td>24</td><td>1.68</td><td>  0.000000</td><td>79</td><td> 1483</td><td>⋯</td><td>78</td><td>7.10</td><td>78</td><td>43.5</td><td> 547.35888</td><td>12222251</td><td>11.0</td><td>11.2</td><td>0.434</td><td> 9.8</td></tr>\n",
       "</tbody>\n",
       "</table>\n"
      ],
      "text/latex": [
       "A data.frame: 2938 × 22\n",
       "\\begin{tabular}{lllllllllllllllllllll}\n",
       " country & year & status & life\\_expectancy & adult\\_mortality & infant\\_deaths & alcohol & percentage\\_expenditure & hepatitis\\_B & measles & ⋯ & polio & total\\_expenditure & diphtheria & HIV\\_AIDS & GDP & population & thinness\\_1\\_19\\_years & thinness\\_5\\_9\\_years & income\\_composition\\_of\\_resources & schooling\\\\\n",
       " <chr> & <int> & <chr> & <dbl> & <int> & <int> & <dbl> & <dbl> & <int> & <int> & ⋯ & <int> & <dbl> & <int> & <dbl> & <dbl> & <dbl> & <dbl> & <dbl> & <dbl> & <dbl>\\\\\n",
       "\\hline\n",
       "\t Afghanistan & 2015 & Developing & 65.0 & 263 & 62 & 0.01 &  71.279624 & 65 & 1154 & ⋯ &  6 & 8.16 & 65 & 0.1 &  584.25921 & 33736494 & 17.2 & 17.3 & 0.479 & 10.1\\\\\n",
       "\t Afghanistan & 2014 & Developing & 59.9 & 271 & 64 & 0.01 &  73.523582 & 62 &  492 & ⋯ & 58 & 8.18 & 62 & 0.1 &  612.69651 &   327582 & 17.5 & 17.5 & 0.476 & 10.0\\\\\n",
       "\t Afghanistan & 2013 & Developing & 59.9 & 268 & 66 & 0.01 &  73.219243 & 64 &  430 & ⋯ & 62 & 8.13 & 64 & 0.1 &  631.74498 & 31731688 & 17.7 & 17.7 & 0.470 &  9.9\\\\\n",
       "\t Afghanistan & 2012 & Developing & 59.5 & 272 & 69 & 0.01 &  78.184215 & 67 & 2787 & ⋯ & 67 & 8.52 & 67 & 0.1 &  669.95900 &  3696958 & 17.9 & 18.0 & 0.463 &  9.8\\\\\n",
       "\t Afghanistan & 2011 & Developing & 59.2 & 275 & 71 & 0.01 &   7.097109 & 68 & 3013 & ⋯ & 68 & 7.87 & 68 & 0.1 &   63.53723 &  2978599 & 18.2 & 18.2 & 0.454 &  9.5\\\\\n",
       "\t Afghanistan & 2010 & Developing & 58.8 & 279 & 74 & 0.01 &  79.679367 & 66 & 1989 & ⋯ & 66 & 9.20 & 66 & 0.1 &  553.32894 &  2883167 & 18.4 & 18.4 & 0.448 &  9.2\\\\\n",
       "\t Afghanistan & 2009 & Developing & 58.6 & 281 & 77 & 0.01 &  56.762217 & 63 & 2861 & ⋯ & 63 & 9.42 & 63 & 0.1 &  445.89330 &   284331 & 18.6 & 18.7 & 0.434 &  8.9\\\\\n",
       "\t Afghanistan & 2008 & Developing & 58.1 & 287 & 80 & 0.03 &  25.873925 & 64 & 1599 & ⋯ & 64 & 8.33 & 64 & 0.1 &  373.36112 &  2729431 & 18.8 & 18.9 & 0.433 &  8.7\\\\\n",
       "\t Afghanistan & 2007 & Developing & 57.5 & 295 & 82 & 0.02 &  10.910156 & 63 & 1141 & ⋯ & 63 & 6.73 & 63 & 0.1 &  369.83580 & 26616792 & 19.0 & 19.1 & 0.415 &  8.4\\\\\n",
       "\t Afghanistan & 2006 & Developing & 57.3 & 295 & 84 & 0.03 &  17.171518 & 64 & 1990 & ⋯ & 58 & 7.43 & 58 & 0.1 &  272.56377 &  2589345 & 19.2 & 19.3 & 0.405 &  8.1\\\\\n",
       "\t Afghanistan & 2005 & Developing & 57.3 & 291 & 85 & 0.02 &   1.388648 & 66 & 1296 & ⋯ & 58 & 8.70 & 58 & 0.1 &   25.29413 &   257798 & 19.3 & 19.5 & 0.396 &  7.9\\\\\n",
       "\t Afghanistan & 2004 & Developing & 57.0 & 293 & 87 & 0.02 &  15.296066 & 67 &  466 & ⋯ &  5 & 8.79 &  5 & 0.1 &  219.14135 & 24118979 & 19.5 & 19.7 & 0.381 &  6.8\\\\\n",
       "\t Afghanistan & 2003 & Developing & 56.7 & 295 & 87 & 0.01 &  11.089053 & 65 &  798 & ⋯ & 41 & 8.82 & 41 & 0.1 &  198.72854 &  2364851 & 19.7 & 19.9 & 0.373 &  6.5\\\\\n",
       "\t Afghanistan & 2002 & Developing & 56.2 &   3 & 88 & 0.01 &  16.887351 & 64 & 2486 & ⋯ & 36 & 7.76 & 36 & 0.1 &  187.84595 & 21979923 & 19.9 &  2.2 & 0.341 &  6.2\\\\\n",
       "\t Afghanistan & 2001 & Developing & 55.3 & 316 & 88 & 0.01 &  10.574728 & 63 & 8762 & ⋯ & 35 & 7.80 & 33 & 0.1 &  117.49698 &  2966463 &  2.1 &  2.4 & 0.340 &  5.9\\\\\n",
       "\t Afghanistan & 2000 & Developing & 54.8 & 321 & 88 & 0.01 &  10.424960 & 62 & 6532 & ⋯ & 24 & 8.20 & 24 & 0.1 &  114.56000 &   293756 &  2.3 &  2.5 & 0.338 &  5.5\\\\\n",
       "\t Albania     & 2015 & Developing & 77.8 &  74 &  0 & 4.60 & 364.975229 & 99 &    0 & ⋯ & 99 & 6.00 & 99 & 0.1 & 3954.22783 &    28873 &  1.2 &  1.3 & 0.762 & 14.2\\\\\n",
       "\t Albania     & 2014 & Developing & 77.5 &   8 &  0 & 4.51 & 428.749067 & 98 &    0 & ⋯ & 98 & 5.88 & 98 & 0.1 & 4575.76379 &   288914 &  1.2 &  1.3 & 0.761 & 14.2\\\\\n",
       "\t Albania     & 2013 & Developing & 77.2 &  84 &  0 & 4.76 & 430.876979 & 99 &    0 & ⋯ & 99 & 5.66 & 99 & 0.1 & 4414.72314 &   289592 &  1.3 &  1.4 & 0.759 & 14.2\\\\\n",
       "\t Albania     & 2012 & Developing & 76.9 &  86 &  0 & 5.14 & 412.443356 & 99 &    9 & ⋯ & 99 & 5.59 & 99 & 0.1 & 4247.61438 &     2941 &  1.3 &  1.4 & 0.752 & 14.2\\\\\n",
       "\t Albania     & 2011 & Developing & 76.6 &  88 &  0 & 5.37 & 437.062100 & 99 &   28 & ⋯ & 99 & 5.71 & 99 & 0.1 & 4437.17868 &   295195 &  1.4 &  1.5 & 0.738 & 13.3\\\\\n",
       "\t Albania     & 2010 & Developing & 76.2 &  91 &  1 & 5.28 &  41.822757 & 99 &   10 & ⋯ & 99 & 5.34 & 99 & 0.1 &  494.35883 &   291321 &  1.4 &  1.5 & 0.725 & 12.5\\\\\n",
       "\t Albania     & 2009 & Developing & 76.1 &  91 &  1 & 5.79 & 348.055952 & 98 &    0 & ⋯ & 98 & 5.79 & 98 & 0.1 & 4114.13655 &  2927519 &  1.5 &  1.6 & 0.721 & 12.2\\\\\n",
       "\t Albania     & 2008 & Developing & 75.3 &   1 &  1 & 5.61 &  36.622068 & 99 &    0 & ⋯ & 99 & 5.87 & 99 & 0.1 &  437.53965 &  2947314 &  1.6 &  1.6 & 0.713 & 12.0\\\\\n",
       "\t Albania     & 2007 & Developing & 75.9 &   9 &  1 & 5.58 &  32.246552 & 98 &   22 & ⋯ & 99 & 6.10 & 98 & 0.1 &  363.13685 &    29717 &  1.6 &  1.7 & 0.703 & 11.6\\\\\n",
       "\t Albania     & 2006 & Developing & 74.2 &  99 &  1 & 5.31 &   3.302154 & 98 &   68 & ⋯ & 97 & 5.86 & 97 & 0.1 &   35.12930 &  2992547 &  1.7 &  1.8 & 0.696 & 11.4\\\\\n",
       "\t Albania     & 2005 & Developing & 73.5 &  15 &  1 & 5.16 &  26.993121 & 98 &    6 & ⋯ & 97 & 6.12 & 98 & 0.1 &  279.14293 &   311487 &  1.8 &  1.8 & 0.685 & 10.8\\\\\n",
       "\t Albania     & 2004 & Developing & 73.0 &  17 &  1 & 4.54 & 221.842800 & 99 &    7 & ⋯ & 98 & 6.38 & 97 & 0.1 & 2416.58824 &   326939 &  1.8 &  1.9 & 0.681 & 10.9\\\\\n",
       "\t Albania     & 2003 & Developing & 72.8 &  18 &  1 & 4.29 &  14.719289 & 97 &    8 & ⋯ & 97 & 6.27 & 97 & 0.1 &  189.68156 &   339616 &  1.9 &  2.0 & 0.674 & 10.7\\\\\n",
       "\t Albania     & 2002 & Developing & 73.3 &  15 &  1 & 3.73 & 104.516916 & 96 &   16 & ⋯ & 98 & 6.30 & 98 & 0.1 & 1453.64278 &     3511 &  2.0 &  2.1 & 0.670 & 10.7\\\\\n",
       "\t ⋮ & ⋮ & ⋮ & ⋮ & ⋮ & ⋮ & ⋮ & ⋮ & ⋮ & ⋮ & ⋱ & ⋮ & ⋮ & ⋮ & ⋮ & ⋮ & ⋮ & ⋮ & ⋮ & ⋮ & ⋮\\\\\n",
       "\t Zambia   & 2013 & Developing & 63.0 & 328 & 29 & 2.41 &  20.623063 & 79 &    35 & ⋯ & 74 & 4.99 & 79 &  4.8 &  185.79336 &  1515321 &  6.4 &  6.2 & 0.565 & 12.5\\\\\n",
       "\t Zambia   & 2012 & Developing & 59.2 & 349 & 29 & 2.59 & 196.915250 & 78 &   896 & ⋯ &  7 & 4.91 & 78 &  5.6 & 1734.93612 & 14699937 &  6.5 &  6.3 & 0.554 & 12.3\\\\\n",
       "\t Zambia   & 2011 & Developing & 58.2 & 366 & 29 & 2.57 & 183.046169 & 81 & 13234 & ⋯ & 83 & 4.26 & 81 &  6.3 & 1644.61967 & 14264756 &  6.6 &  6.4 & 0.543 & 12.0\\\\\n",
       "\t Zambia   & 2010 & Developing & 58.0 & 363 & 30 & 2.47 & 184.364910 & 83 & 15754 & ⋯ &  8 & 4.41 & 83 &  6.8 & 1463.21357 &   138533 &  6.7 &  6.5 & 0.533 & 11.8\\\\\n",
       "\t Zambia   & 2009 & Developing & 57.4 & 368 & 30 & 2.30 & 143.869887 & 94 &    26 & ⋯ & 93 & 4.73 & 94 &  9.1 & 1139.11233 & 13456417 &  6.7 &  6.6 & 0.518 & 11.6\\\\\n",
       "\t Zambia   & 2008 & Developing & 55.7 &  45 & 31 & 2.12 & 153.678375 & 87 &   140 & ⋯ &  9 & 4.87 & 87 & 11.9 & 1369.68249 &  1382517 &  6.8 &  6.7 & 0.504 & 11.4\\\\\n",
       "\t Zambia   & 2007 & Developing & 52.6 & 487 & 32 & 2.08 &  10.851482 &  8 &   535 & ⋯ & 77 & 4.37 &  8 & 13.6 &  114.58799 & 12725974 &  6.9 &  6.8 & 0.492 & 11.1\\\\\n",
       "\t Zambia   & 2006 & Developing & 58.0 & 526 & 33 & 2.25 &   1.860004 & 81 &   459 & ⋯ & 83 & 6.11 & 81 & 15.9 &   13.15420 & 12383446 &  7.0 &  6.9 & 0.479 & 10.9\\\\\n",
       "\t Zambia   & 2005 & Developing & 49.3 & 554 & 34 & 2.33 & 121.879331 & 82 &    45 & ⋯ & 84 & 7.56 & 82 & 17.0 &  691.31782 &  1252156 &  7.1 &  7.0 & 0.467 & 10.7\\\\\n",
       "\t Zambia   & 2004 & Developing & 47.9 & 578 & 36 & 2.46 &   8.369852 & NA &    35 & ⋯ & 84 & 7.33 & 83 & 17.6 &   53.27722 & 11731746 &  7.2 &  7.1 & 0.456 & 10.5\\\\\n",
       "\t Zambia   & 2003 & Developing & 46.4 &  64 & 39 & 2.33 &  65.789974 & NA &   881 & ⋯ & 85 & 8.18 & 83 & 18.2 &  429.15834 & 11421984 &  7.3 &  7.2 & 0.443 & 10.2\\\\\n",
       "\t Zambia   & 2002 & Developing & 45.5 &  69 & 41 & 2.44 &  54.043480 & NA & 25036 & ⋯ & 85 & 6.93 & 84 & 18.4 &  377.13524 &   111249 &  7.4 &  7.3 & 0.433 & 10.0\\\\\n",
       "\t Zambia   & 2001 & Developing & 44.6 & 611 & 43 & 2.61 &  46.830275 & NA & 16997 & ⋯ & 86 & 6.56 & 85 & 18.6 &  378.27362 &  1824125 &  7.4 &  7.4 & 0.424 &  9.8\\\\\n",
       "\t Zambia   & 2000 & Developing & 43.8 & 614 & 44 & 2.62 &  45.616880 & NA & 30930 & ⋯ & 85 & 7.16 & 85 & 18.7 &  341.95562 &  1531221 &  7.5 &  7.5 & 0.418 &  9.6\\\\\n",
       "\t Zimbabwe & 2015 & Developing & 67.0 & 336 & 22 &   NA &   0.000000 & 87 &     0 & ⋯ & 88 &   NA & 87 &  6.2 &  118.69383 & 15777451 &  5.6 &  5.5 & 0.507 & 10.3\\\\\n",
       "\t Zimbabwe & 2014 & Developing & 59.2 & 371 & 23 & 6.50 &  10.822595 & 91 &     0 & ⋯ & 92 & 6.44 & 91 &  6.3 &  127.47462 & 15411675 &  5.9 &  5.7 & 0.498 & 10.3\\\\\n",
       "\t Zimbabwe & 2013 & Developing & 58.0 & 399 & 25 & 6.39 &  10.666707 & 95 &     0 & ⋯ & 95 & 6.88 & 95 &  6.8 &  111.22740 &   155456 &  6.2 &  6.0 & 0.488 & 10.4\\\\\n",
       "\t Zimbabwe & 2012 & Developing & 56.6 & 429 & 26 & 6.09 &  92.602336 & 97 &     0 & ⋯ & 95 & 6.69 & 95 &  8.8 &  955.64847 &  1471826 &  6.5 &  6.4 & 0.464 &  9.8\\\\\n",
       "\t Zimbabwe & 2011 & Developing & 54.9 & 464 & 28 & 6.00 &  63.750530 & 94 &     0 & ⋯ & 93 & 6.31 & 93 & 13.3 &  839.92794 & 14386649 &  6.8 &  6.7 & 0.452 & 10.1\\\\\n",
       "\t Zimbabwe & 2010 & Developing & 52.4 & 527 & 29 & 5.21 &  53.308581 &  9 &  9696 & ⋯ & 89 & 5.37 & 89 & 15.7 &  713.63562 &  1486317 &  7.1 &  7.0 & 0.436 & 10.0\\\\\n",
       "\t Zimbabwe & 2009 & Developing & 50.0 & 587 & 30 & 4.64 &   1.040021 & 73 &   853 & ⋯ & 69 & 6.26 & 73 & 18.1 &   65.82412 &  1381599 &  7.5 &  7.4 & 0.419 &  9.9\\\\\n",
       "\t Zimbabwe & 2008 & Developing & 48.2 & 632 & 30 & 3.56 &  20.843429 & 75 &     0 & ⋯ & 75 & 4.96 & 75 & 20.5 &  325.67857 & 13558469 &  7.8 &  7.8 & 0.421 &  9.7\\\\\n",
       "\t Zimbabwe & 2007 & Developing & 46.6 &  67 & 29 & 3.88 &  29.814566 & 72 &   242 & ⋯ & 73 & 4.47 & 73 & 23.7 &  396.99822 &  1332999 &  8.2 &  8.2 & 0.414 &  9.6\\\\\n",
       "\t Zimbabwe & 2006 & Developing & 45.4 &   7 & 28 & 4.57 &  34.262169 & 68 &   212 & ⋯ & 71 & 5.12 &  7 & 26.8 &  414.79623 & 13124267 &  8.6 &  8.6 & 0.408 &  9.5\\\\\n",
       "\t Zimbabwe & 2005 & Developing & 44.6 & 717 & 28 & 4.14 &   8.717409 & 65 &   420 & ⋯ & 69 & 6.44 & 68 & 30.3 &  444.76575 &   129432 &  9.0 &  9.0 & 0.406 &  9.3\\\\\n",
       "\t Zimbabwe & 2004 & Developing & 44.3 & 723 & 27 & 4.36 &   0.000000 & 68 &    31 & ⋯ & 67 & 7.13 & 65 & 33.6 &  454.36665 & 12777511 &  9.4 &  9.4 & 0.407 &  9.2\\\\\n",
       "\t Zimbabwe & 2003 & Developing & 44.5 & 715 & 26 & 4.06 &   0.000000 &  7 &   998 & ⋯ &  7 & 6.52 & 68 & 36.7 &  453.35116 & 12633897 &  9.8 &  9.9 & 0.418 &  9.5\\\\\n",
       "\t Zimbabwe & 2002 & Developing & 44.8 &  73 & 25 & 4.43 &   0.000000 & 73 &   304 & ⋯ & 73 & 6.53 & 71 & 39.8 &   57.34834 &   125525 &  1.2 &  1.3 & 0.427 & 10.0\\\\\n",
       "\t Zimbabwe & 2001 & Developing & 45.3 & 686 & 25 & 1.72 &   0.000000 & 76 &   529 & ⋯ & 76 & 6.16 & 75 & 42.1 &  548.58731 & 12366165 &  1.6 &  1.7 & 0.427 &  9.8\\\\\n",
       "\t Zimbabwe & 2000 & Developing & 46.0 & 665 & 24 & 1.68 &   0.000000 & 79 &  1483 & ⋯ & 78 & 7.10 & 78 & 43.5 &  547.35888 & 12222251 & 11.0 & 11.2 & 0.434 &  9.8\\\\\n",
       "\\end{tabular}\n"
      ],
      "text/markdown": [
       "\n",
       "A data.frame: 2938 × 22\n",
       "\n",
       "| country &lt;chr&gt; | year &lt;int&gt; | status &lt;chr&gt; | life_expectancy &lt;dbl&gt; | adult_mortality &lt;int&gt; | infant_deaths &lt;int&gt; | alcohol &lt;dbl&gt; | percentage_expenditure &lt;dbl&gt; | hepatitis_B &lt;int&gt; | measles &lt;int&gt; | ⋯ ⋯ | polio &lt;int&gt; | total_expenditure &lt;dbl&gt; | diphtheria &lt;int&gt; | HIV_AIDS &lt;dbl&gt; | GDP &lt;dbl&gt; | population &lt;dbl&gt; | thinness_1_19_years &lt;dbl&gt; | thinness_5_9_years &lt;dbl&gt; | income_composition_of_resources &lt;dbl&gt; | schooling &lt;dbl&gt; |\n",
       "|---|---|---|---|---|---|---|---|---|---|---|---|---|---|---|---|---|---|---|---|---|\n",
       "| Afghanistan | 2015 | Developing | 65.0 | 263 | 62 | 0.01 |  71.279624 | 65 | 1154 | ⋯ |  6 | 8.16 | 65 | 0.1 |  584.25921 | 33736494 | 17.2 | 17.3 | 0.479 | 10.1 |\n",
       "| Afghanistan | 2014 | Developing | 59.9 | 271 | 64 | 0.01 |  73.523582 | 62 |  492 | ⋯ | 58 | 8.18 | 62 | 0.1 |  612.69651 |   327582 | 17.5 | 17.5 | 0.476 | 10.0 |\n",
       "| Afghanistan | 2013 | Developing | 59.9 | 268 | 66 | 0.01 |  73.219243 | 64 |  430 | ⋯ | 62 | 8.13 | 64 | 0.1 |  631.74498 | 31731688 | 17.7 | 17.7 | 0.470 |  9.9 |\n",
       "| Afghanistan | 2012 | Developing | 59.5 | 272 | 69 | 0.01 |  78.184215 | 67 | 2787 | ⋯ | 67 | 8.52 | 67 | 0.1 |  669.95900 |  3696958 | 17.9 | 18.0 | 0.463 |  9.8 |\n",
       "| Afghanistan | 2011 | Developing | 59.2 | 275 | 71 | 0.01 |   7.097109 | 68 | 3013 | ⋯ | 68 | 7.87 | 68 | 0.1 |   63.53723 |  2978599 | 18.2 | 18.2 | 0.454 |  9.5 |\n",
       "| Afghanistan | 2010 | Developing | 58.8 | 279 | 74 | 0.01 |  79.679367 | 66 | 1989 | ⋯ | 66 | 9.20 | 66 | 0.1 |  553.32894 |  2883167 | 18.4 | 18.4 | 0.448 |  9.2 |\n",
       "| Afghanistan | 2009 | Developing | 58.6 | 281 | 77 | 0.01 |  56.762217 | 63 | 2861 | ⋯ | 63 | 9.42 | 63 | 0.1 |  445.89330 |   284331 | 18.6 | 18.7 | 0.434 |  8.9 |\n",
       "| Afghanistan | 2008 | Developing | 58.1 | 287 | 80 | 0.03 |  25.873925 | 64 | 1599 | ⋯ | 64 | 8.33 | 64 | 0.1 |  373.36112 |  2729431 | 18.8 | 18.9 | 0.433 |  8.7 |\n",
       "| Afghanistan | 2007 | Developing | 57.5 | 295 | 82 | 0.02 |  10.910156 | 63 | 1141 | ⋯ | 63 | 6.73 | 63 | 0.1 |  369.83580 | 26616792 | 19.0 | 19.1 | 0.415 |  8.4 |\n",
       "| Afghanistan | 2006 | Developing | 57.3 | 295 | 84 | 0.03 |  17.171518 | 64 | 1990 | ⋯ | 58 | 7.43 | 58 | 0.1 |  272.56377 |  2589345 | 19.2 | 19.3 | 0.405 |  8.1 |\n",
       "| Afghanistan | 2005 | Developing | 57.3 | 291 | 85 | 0.02 |   1.388648 | 66 | 1296 | ⋯ | 58 | 8.70 | 58 | 0.1 |   25.29413 |   257798 | 19.3 | 19.5 | 0.396 |  7.9 |\n",
       "| Afghanistan | 2004 | Developing | 57.0 | 293 | 87 | 0.02 |  15.296066 | 67 |  466 | ⋯ |  5 | 8.79 |  5 | 0.1 |  219.14135 | 24118979 | 19.5 | 19.7 | 0.381 |  6.8 |\n",
       "| Afghanistan | 2003 | Developing | 56.7 | 295 | 87 | 0.01 |  11.089053 | 65 |  798 | ⋯ | 41 | 8.82 | 41 | 0.1 |  198.72854 |  2364851 | 19.7 | 19.9 | 0.373 |  6.5 |\n",
       "| Afghanistan | 2002 | Developing | 56.2 |   3 | 88 | 0.01 |  16.887351 | 64 | 2486 | ⋯ | 36 | 7.76 | 36 | 0.1 |  187.84595 | 21979923 | 19.9 |  2.2 | 0.341 |  6.2 |\n",
       "| Afghanistan | 2001 | Developing | 55.3 | 316 | 88 | 0.01 |  10.574728 | 63 | 8762 | ⋯ | 35 | 7.80 | 33 | 0.1 |  117.49698 |  2966463 |  2.1 |  2.4 | 0.340 |  5.9 |\n",
       "| Afghanistan | 2000 | Developing | 54.8 | 321 | 88 | 0.01 |  10.424960 | 62 | 6532 | ⋯ | 24 | 8.20 | 24 | 0.1 |  114.56000 |   293756 |  2.3 |  2.5 | 0.338 |  5.5 |\n",
       "| Albania     | 2015 | Developing | 77.8 |  74 |  0 | 4.60 | 364.975229 | 99 |    0 | ⋯ | 99 | 6.00 | 99 | 0.1 | 3954.22783 |    28873 |  1.2 |  1.3 | 0.762 | 14.2 |\n",
       "| Albania     | 2014 | Developing | 77.5 |   8 |  0 | 4.51 | 428.749067 | 98 |    0 | ⋯ | 98 | 5.88 | 98 | 0.1 | 4575.76379 |   288914 |  1.2 |  1.3 | 0.761 | 14.2 |\n",
       "| Albania     | 2013 | Developing | 77.2 |  84 |  0 | 4.76 | 430.876979 | 99 |    0 | ⋯ | 99 | 5.66 | 99 | 0.1 | 4414.72314 |   289592 |  1.3 |  1.4 | 0.759 | 14.2 |\n",
       "| Albania     | 2012 | Developing | 76.9 |  86 |  0 | 5.14 | 412.443356 | 99 |    9 | ⋯ | 99 | 5.59 | 99 | 0.1 | 4247.61438 |     2941 |  1.3 |  1.4 | 0.752 | 14.2 |\n",
       "| Albania     | 2011 | Developing | 76.6 |  88 |  0 | 5.37 | 437.062100 | 99 |   28 | ⋯ | 99 | 5.71 | 99 | 0.1 | 4437.17868 |   295195 |  1.4 |  1.5 | 0.738 | 13.3 |\n",
       "| Albania     | 2010 | Developing | 76.2 |  91 |  1 | 5.28 |  41.822757 | 99 |   10 | ⋯ | 99 | 5.34 | 99 | 0.1 |  494.35883 |   291321 |  1.4 |  1.5 | 0.725 | 12.5 |\n",
       "| Albania     | 2009 | Developing | 76.1 |  91 |  1 | 5.79 | 348.055952 | 98 |    0 | ⋯ | 98 | 5.79 | 98 | 0.1 | 4114.13655 |  2927519 |  1.5 |  1.6 | 0.721 | 12.2 |\n",
       "| Albania     | 2008 | Developing | 75.3 |   1 |  1 | 5.61 |  36.622068 | 99 |    0 | ⋯ | 99 | 5.87 | 99 | 0.1 |  437.53965 |  2947314 |  1.6 |  1.6 | 0.713 | 12.0 |\n",
       "| Albania     | 2007 | Developing | 75.9 |   9 |  1 | 5.58 |  32.246552 | 98 |   22 | ⋯ | 99 | 6.10 | 98 | 0.1 |  363.13685 |    29717 |  1.6 |  1.7 | 0.703 | 11.6 |\n",
       "| Albania     | 2006 | Developing | 74.2 |  99 |  1 | 5.31 |   3.302154 | 98 |   68 | ⋯ | 97 | 5.86 | 97 | 0.1 |   35.12930 |  2992547 |  1.7 |  1.8 | 0.696 | 11.4 |\n",
       "| Albania     | 2005 | Developing | 73.5 |  15 |  1 | 5.16 |  26.993121 | 98 |    6 | ⋯ | 97 | 6.12 | 98 | 0.1 |  279.14293 |   311487 |  1.8 |  1.8 | 0.685 | 10.8 |\n",
       "| Albania     | 2004 | Developing | 73.0 |  17 |  1 | 4.54 | 221.842800 | 99 |    7 | ⋯ | 98 | 6.38 | 97 | 0.1 | 2416.58824 |   326939 |  1.8 |  1.9 | 0.681 | 10.9 |\n",
       "| Albania     | 2003 | Developing | 72.8 |  18 |  1 | 4.29 |  14.719289 | 97 |    8 | ⋯ | 97 | 6.27 | 97 | 0.1 |  189.68156 |   339616 |  1.9 |  2.0 | 0.674 | 10.7 |\n",
       "| Albania     | 2002 | Developing | 73.3 |  15 |  1 | 3.73 | 104.516916 | 96 |   16 | ⋯ | 98 | 6.30 | 98 | 0.1 | 1453.64278 |     3511 |  2.0 |  2.1 | 0.670 | 10.7 |\n",
       "| ⋮ | ⋮ | ⋮ | ⋮ | ⋮ | ⋮ | ⋮ | ⋮ | ⋮ | ⋮ | ⋱ | ⋮ | ⋮ | ⋮ | ⋮ | ⋮ | ⋮ | ⋮ | ⋮ | ⋮ | ⋮ |\n",
       "| Zambia   | 2013 | Developing | 63.0 | 328 | 29 | 2.41 |  20.623063 | 79 |    35 | ⋯ | 74 | 4.99 | 79 |  4.8 |  185.79336 |  1515321 |  6.4 |  6.2 | 0.565 | 12.5 |\n",
       "| Zambia   | 2012 | Developing | 59.2 | 349 | 29 | 2.59 | 196.915250 | 78 |   896 | ⋯ |  7 | 4.91 | 78 |  5.6 | 1734.93612 | 14699937 |  6.5 |  6.3 | 0.554 | 12.3 |\n",
       "| Zambia   | 2011 | Developing | 58.2 | 366 | 29 | 2.57 | 183.046169 | 81 | 13234 | ⋯ | 83 | 4.26 | 81 |  6.3 | 1644.61967 | 14264756 |  6.6 |  6.4 | 0.543 | 12.0 |\n",
       "| Zambia   | 2010 | Developing | 58.0 | 363 | 30 | 2.47 | 184.364910 | 83 | 15754 | ⋯ |  8 | 4.41 | 83 |  6.8 | 1463.21357 |   138533 |  6.7 |  6.5 | 0.533 | 11.8 |\n",
       "| Zambia   | 2009 | Developing | 57.4 | 368 | 30 | 2.30 | 143.869887 | 94 |    26 | ⋯ | 93 | 4.73 | 94 |  9.1 | 1139.11233 | 13456417 |  6.7 |  6.6 | 0.518 | 11.6 |\n",
       "| Zambia   | 2008 | Developing | 55.7 |  45 | 31 | 2.12 | 153.678375 | 87 |   140 | ⋯ |  9 | 4.87 | 87 | 11.9 | 1369.68249 |  1382517 |  6.8 |  6.7 | 0.504 | 11.4 |\n",
       "| Zambia   | 2007 | Developing | 52.6 | 487 | 32 | 2.08 |  10.851482 |  8 |   535 | ⋯ | 77 | 4.37 |  8 | 13.6 |  114.58799 | 12725974 |  6.9 |  6.8 | 0.492 | 11.1 |\n",
       "| Zambia   | 2006 | Developing | 58.0 | 526 | 33 | 2.25 |   1.860004 | 81 |   459 | ⋯ | 83 | 6.11 | 81 | 15.9 |   13.15420 | 12383446 |  7.0 |  6.9 | 0.479 | 10.9 |\n",
       "| Zambia   | 2005 | Developing | 49.3 | 554 | 34 | 2.33 | 121.879331 | 82 |    45 | ⋯ | 84 | 7.56 | 82 | 17.0 |  691.31782 |  1252156 |  7.1 |  7.0 | 0.467 | 10.7 |\n",
       "| Zambia   | 2004 | Developing | 47.9 | 578 | 36 | 2.46 |   8.369852 | NA |    35 | ⋯ | 84 | 7.33 | 83 | 17.6 |   53.27722 | 11731746 |  7.2 |  7.1 | 0.456 | 10.5 |\n",
       "| Zambia   | 2003 | Developing | 46.4 |  64 | 39 | 2.33 |  65.789974 | NA |   881 | ⋯ | 85 | 8.18 | 83 | 18.2 |  429.15834 | 11421984 |  7.3 |  7.2 | 0.443 | 10.2 |\n",
       "| Zambia   | 2002 | Developing | 45.5 |  69 | 41 | 2.44 |  54.043480 | NA | 25036 | ⋯ | 85 | 6.93 | 84 | 18.4 |  377.13524 |   111249 |  7.4 |  7.3 | 0.433 | 10.0 |\n",
       "| Zambia   | 2001 | Developing | 44.6 | 611 | 43 | 2.61 |  46.830275 | NA | 16997 | ⋯ | 86 | 6.56 | 85 | 18.6 |  378.27362 |  1824125 |  7.4 |  7.4 | 0.424 |  9.8 |\n",
       "| Zambia   | 2000 | Developing | 43.8 | 614 | 44 | 2.62 |  45.616880 | NA | 30930 | ⋯ | 85 | 7.16 | 85 | 18.7 |  341.95562 |  1531221 |  7.5 |  7.5 | 0.418 |  9.6 |\n",
       "| Zimbabwe | 2015 | Developing | 67.0 | 336 | 22 |   NA |   0.000000 | 87 |     0 | ⋯ | 88 |   NA | 87 |  6.2 |  118.69383 | 15777451 |  5.6 |  5.5 | 0.507 | 10.3 |\n",
       "| Zimbabwe | 2014 | Developing | 59.2 | 371 | 23 | 6.50 |  10.822595 | 91 |     0 | ⋯ | 92 | 6.44 | 91 |  6.3 |  127.47462 | 15411675 |  5.9 |  5.7 | 0.498 | 10.3 |\n",
       "| Zimbabwe | 2013 | Developing | 58.0 | 399 | 25 | 6.39 |  10.666707 | 95 |     0 | ⋯ | 95 | 6.88 | 95 |  6.8 |  111.22740 |   155456 |  6.2 |  6.0 | 0.488 | 10.4 |\n",
       "| Zimbabwe | 2012 | Developing | 56.6 | 429 | 26 | 6.09 |  92.602336 | 97 |     0 | ⋯ | 95 | 6.69 | 95 |  8.8 |  955.64847 |  1471826 |  6.5 |  6.4 | 0.464 |  9.8 |\n",
       "| Zimbabwe | 2011 | Developing | 54.9 | 464 | 28 | 6.00 |  63.750530 | 94 |     0 | ⋯ | 93 | 6.31 | 93 | 13.3 |  839.92794 | 14386649 |  6.8 |  6.7 | 0.452 | 10.1 |\n",
       "| Zimbabwe | 2010 | Developing | 52.4 | 527 | 29 | 5.21 |  53.308581 |  9 |  9696 | ⋯ | 89 | 5.37 | 89 | 15.7 |  713.63562 |  1486317 |  7.1 |  7.0 | 0.436 | 10.0 |\n",
       "| Zimbabwe | 2009 | Developing | 50.0 | 587 | 30 | 4.64 |   1.040021 | 73 |   853 | ⋯ | 69 | 6.26 | 73 | 18.1 |   65.82412 |  1381599 |  7.5 |  7.4 | 0.419 |  9.9 |\n",
       "| Zimbabwe | 2008 | Developing | 48.2 | 632 | 30 | 3.56 |  20.843429 | 75 |     0 | ⋯ | 75 | 4.96 | 75 | 20.5 |  325.67857 | 13558469 |  7.8 |  7.8 | 0.421 |  9.7 |\n",
       "| Zimbabwe | 2007 | Developing | 46.6 |  67 | 29 | 3.88 |  29.814566 | 72 |   242 | ⋯ | 73 | 4.47 | 73 | 23.7 |  396.99822 |  1332999 |  8.2 |  8.2 | 0.414 |  9.6 |\n",
       "| Zimbabwe | 2006 | Developing | 45.4 |   7 | 28 | 4.57 |  34.262169 | 68 |   212 | ⋯ | 71 | 5.12 |  7 | 26.8 |  414.79623 | 13124267 |  8.6 |  8.6 | 0.408 |  9.5 |\n",
       "| Zimbabwe | 2005 | Developing | 44.6 | 717 | 28 | 4.14 |   8.717409 | 65 |   420 | ⋯ | 69 | 6.44 | 68 | 30.3 |  444.76575 |   129432 |  9.0 |  9.0 | 0.406 |  9.3 |\n",
       "| Zimbabwe | 2004 | Developing | 44.3 | 723 | 27 | 4.36 |   0.000000 | 68 |    31 | ⋯ | 67 | 7.13 | 65 | 33.6 |  454.36665 | 12777511 |  9.4 |  9.4 | 0.407 |  9.2 |\n",
       "| Zimbabwe | 2003 | Developing | 44.5 | 715 | 26 | 4.06 |   0.000000 |  7 |   998 | ⋯ |  7 | 6.52 | 68 | 36.7 |  453.35116 | 12633897 |  9.8 |  9.9 | 0.418 |  9.5 |\n",
       "| Zimbabwe | 2002 | Developing | 44.8 |  73 | 25 | 4.43 |   0.000000 | 73 |   304 | ⋯ | 73 | 6.53 | 71 | 39.8 |   57.34834 |   125525 |  1.2 |  1.3 | 0.427 | 10.0 |\n",
       "| Zimbabwe | 2001 | Developing | 45.3 | 686 | 25 | 1.72 |   0.000000 | 76 |   529 | ⋯ | 76 | 6.16 | 75 | 42.1 |  548.58731 | 12366165 |  1.6 |  1.7 | 0.427 |  9.8 |\n",
       "| Zimbabwe | 2000 | Developing | 46.0 | 665 | 24 | 1.68 |   0.000000 | 79 |  1483 | ⋯ | 78 | 7.10 | 78 | 43.5 |  547.35888 | 12222251 | 11.0 | 11.2 | 0.434 |  9.8 |\n",
       "\n"
      ],
      "text/plain": [
       "     country     year status     life_expectancy adult_mortality infant_deaths\n",
       "1    Afghanistan 2015 Developing 65.0            263             62           \n",
       "2    Afghanistan 2014 Developing 59.9            271             64           \n",
       "3    Afghanistan 2013 Developing 59.9            268             66           \n",
       "4    Afghanistan 2012 Developing 59.5            272             69           \n",
       "5    Afghanistan 2011 Developing 59.2            275             71           \n",
       "6    Afghanistan 2010 Developing 58.8            279             74           \n",
       "7    Afghanistan 2009 Developing 58.6            281             77           \n",
       "8    Afghanistan 2008 Developing 58.1            287             80           \n",
       "9    Afghanistan 2007 Developing 57.5            295             82           \n",
       "10   Afghanistan 2006 Developing 57.3            295             84           \n",
       "11   Afghanistan 2005 Developing 57.3            291             85           \n",
       "12   Afghanistan 2004 Developing 57.0            293             87           \n",
       "13   Afghanistan 2003 Developing 56.7            295             87           \n",
       "14   Afghanistan 2002 Developing 56.2              3             88           \n",
       "15   Afghanistan 2001 Developing 55.3            316             88           \n",
       "16   Afghanistan 2000 Developing 54.8            321             88           \n",
       "17   Albania     2015 Developing 77.8             74              0           \n",
       "18   Albania     2014 Developing 77.5              8              0           \n",
       "19   Albania     2013 Developing 77.2             84              0           \n",
       "20   Albania     2012 Developing 76.9             86              0           \n",
       "21   Albania     2011 Developing 76.6             88              0           \n",
       "22   Albania     2010 Developing 76.2             91              1           \n",
       "23   Albania     2009 Developing 76.1             91              1           \n",
       "24   Albania     2008 Developing 75.3              1              1           \n",
       "25   Albania     2007 Developing 75.9              9              1           \n",
       "26   Albania     2006 Developing 74.2             99              1           \n",
       "27   Albania     2005 Developing 73.5             15              1           \n",
       "28   Albania     2004 Developing 73.0             17              1           \n",
       "29   Albania     2003 Developing 72.8             18              1           \n",
       "30   Albania     2002 Developing 73.3             15              1           \n",
       "⋮    ⋮           ⋮    ⋮          ⋮               ⋮               ⋮            \n",
       "2909 Zambia      2013 Developing 63.0            328             29           \n",
       "2910 Zambia      2012 Developing 59.2            349             29           \n",
       "2911 Zambia      2011 Developing 58.2            366             29           \n",
       "2912 Zambia      2010 Developing 58.0            363             30           \n",
       "2913 Zambia      2009 Developing 57.4            368             30           \n",
       "2914 Zambia      2008 Developing 55.7             45             31           \n",
       "2915 Zambia      2007 Developing 52.6            487             32           \n",
       "2916 Zambia      2006 Developing 58.0            526             33           \n",
       "2917 Zambia      2005 Developing 49.3            554             34           \n",
       "2918 Zambia      2004 Developing 47.9            578             36           \n",
       "2919 Zambia      2003 Developing 46.4             64             39           \n",
       "2920 Zambia      2002 Developing 45.5             69             41           \n",
       "2921 Zambia      2001 Developing 44.6            611             43           \n",
       "2922 Zambia      2000 Developing 43.8            614             44           \n",
       "2923 Zimbabwe    2015 Developing 67.0            336             22           \n",
       "2924 Zimbabwe    2014 Developing 59.2            371             23           \n",
       "2925 Zimbabwe    2013 Developing 58.0            399             25           \n",
       "2926 Zimbabwe    2012 Developing 56.6            429             26           \n",
       "2927 Zimbabwe    2011 Developing 54.9            464             28           \n",
       "2928 Zimbabwe    2010 Developing 52.4            527             29           \n",
       "2929 Zimbabwe    2009 Developing 50.0            587             30           \n",
       "2930 Zimbabwe    2008 Developing 48.2            632             30           \n",
       "2931 Zimbabwe    2007 Developing 46.6             67             29           \n",
       "2932 Zimbabwe    2006 Developing 45.4              7             28           \n",
       "2933 Zimbabwe    2005 Developing 44.6            717             28           \n",
       "2934 Zimbabwe    2004 Developing 44.3            723             27           \n",
       "2935 Zimbabwe    2003 Developing 44.5            715             26           \n",
       "2936 Zimbabwe    2002 Developing 44.8             73             25           \n",
       "2937 Zimbabwe    2001 Developing 45.3            686             25           \n",
       "2938 Zimbabwe    2000 Developing 46.0            665             24           \n",
       "     alcohol percentage_expenditure hepatitis_B measles ⋯ polio\n",
       "1    0.01     71.279624             65          1154    ⋯  6   \n",
       "2    0.01     73.523582             62           492    ⋯ 58   \n",
       "3    0.01     73.219243             64           430    ⋯ 62   \n",
       "4    0.01     78.184215             67          2787    ⋯ 67   \n",
       "5    0.01      7.097109             68          3013    ⋯ 68   \n",
       "6    0.01     79.679367             66          1989    ⋯ 66   \n",
       "7    0.01     56.762217             63          2861    ⋯ 63   \n",
       "8    0.03     25.873925             64          1599    ⋯ 64   \n",
       "9    0.02     10.910156             63          1141    ⋯ 63   \n",
       "10   0.03     17.171518             64          1990    ⋯ 58   \n",
       "11   0.02      1.388648             66          1296    ⋯ 58   \n",
       "12   0.02     15.296066             67           466    ⋯  5   \n",
       "13   0.01     11.089053             65           798    ⋯ 41   \n",
       "14   0.01     16.887351             64          2486    ⋯ 36   \n",
       "15   0.01     10.574728             63          8762    ⋯ 35   \n",
       "16   0.01     10.424960             62          6532    ⋯ 24   \n",
       "17   4.60    364.975229             99             0    ⋯ 99   \n",
       "18   4.51    428.749067             98             0    ⋯ 98   \n",
       "19   4.76    430.876979             99             0    ⋯ 99   \n",
       "20   5.14    412.443356             99             9    ⋯ 99   \n",
       "21   5.37    437.062100             99            28    ⋯ 99   \n",
       "22   5.28     41.822757             99            10    ⋯ 99   \n",
       "23   5.79    348.055952             98             0    ⋯ 98   \n",
       "24   5.61     36.622068             99             0    ⋯ 99   \n",
       "25   5.58     32.246552             98            22    ⋯ 99   \n",
       "26   5.31      3.302154             98            68    ⋯ 97   \n",
       "27   5.16     26.993121             98             6    ⋯ 97   \n",
       "28   4.54    221.842800             99             7    ⋯ 98   \n",
       "29   4.29     14.719289             97             8    ⋯ 97   \n",
       "30   3.73    104.516916             96            16    ⋯ 98   \n",
       "⋮    ⋮       ⋮                      ⋮           ⋮       ⋱ ⋮    \n",
       "2909 2.41     20.623063             79             35   ⋯ 74   \n",
       "2910 2.59    196.915250             78            896   ⋯  7   \n",
       "2911 2.57    183.046169             81          13234   ⋯ 83   \n",
       "2912 2.47    184.364910             83          15754   ⋯  8   \n",
       "2913 2.30    143.869887             94             26   ⋯ 93   \n",
       "2914 2.12    153.678375             87            140   ⋯  9   \n",
       "2915 2.08     10.851482              8            535   ⋯ 77   \n",
       "2916 2.25      1.860004             81            459   ⋯ 83   \n",
       "2917 2.33    121.879331             82             45   ⋯ 84   \n",
       "2918 2.46      8.369852             NA             35   ⋯ 84   \n",
       "2919 2.33     65.789974             NA            881   ⋯ 85   \n",
       "2920 2.44     54.043480             NA          25036   ⋯ 85   \n",
       "2921 2.61     46.830275             NA          16997   ⋯ 86   \n",
       "2922 2.62     45.616880             NA          30930   ⋯ 85   \n",
       "2923   NA      0.000000             87              0   ⋯ 88   \n",
       "2924 6.50     10.822595             91              0   ⋯ 92   \n",
       "2925 6.39     10.666707             95              0   ⋯ 95   \n",
       "2926 6.09     92.602336             97              0   ⋯ 95   \n",
       "2927 6.00     63.750530             94              0   ⋯ 93   \n",
       "2928 5.21     53.308581              9           9696   ⋯ 89   \n",
       "2929 4.64      1.040021             73            853   ⋯ 69   \n",
       "2930 3.56     20.843429             75              0   ⋯ 75   \n",
       "2931 3.88     29.814566             72            242   ⋯ 73   \n",
       "2932 4.57     34.262169             68            212   ⋯ 71   \n",
       "2933 4.14      8.717409             65            420   ⋯ 69   \n",
       "2934 4.36      0.000000             68             31   ⋯ 67   \n",
       "2935 4.06      0.000000              7            998   ⋯  7   \n",
       "2936 4.43      0.000000             73            304   ⋯ 73   \n",
       "2937 1.72      0.000000             76            529   ⋯ 76   \n",
       "2938 1.68      0.000000             79           1483   ⋯ 78   \n",
       "     total_expenditure diphtheria HIV_AIDS GDP        population\n",
       "1    8.16              65         0.1       584.25921 33736494  \n",
       "2    8.18              62         0.1       612.69651   327582  \n",
       "3    8.13              64         0.1       631.74498 31731688  \n",
       "4    8.52              67         0.1       669.95900  3696958  \n",
       "5    7.87              68         0.1        63.53723  2978599  \n",
       "6    9.20              66         0.1       553.32894  2883167  \n",
       "7    9.42              63         0.1       445.89330   284331  \n",
       "8    8.33              64         0.1       373.36112  2729431  \n",
       "9    6.73              63         0.1       369.83580 26616792  \n",
       "10   7.43              58         0.1       272.56377  2589345  \n",
       "11   8.70              58         0.1        25.29413   257798  \n",
       "12   8.79               5         0.1       219.14135 24118979  \n",
       "13   8.82              41         0.1       198.72854  2364851  \n",
       "14   7.76              36         0.1       187.84595 21979923  \n",
       "15   7.80              33         0.1       117.49698  2966463  \n",
       "16   8.20              24         0.1       114.56000   293756  \n",
       "17   6.00              99         0.1      3954.22783    28873  \n",
       "18   5.88              98         0.1      4575.76379   288914  \n",
       "19   5.66              99         0.1      4414.72314   289592  \n",
       "20   5.59              99         0.1      4247.61438     2941  \n",
       "21   5.71              99         0.1      4437.17868   295195  \n",
       "22   5.34              99         0.1       494.35883   291321  \n",
       "23   5.79              98         0.1      4114.13655  2927519  \n",
       "24   5.87              99         0.1       437.53965  2947314  \n",
       "25   6.10              98         0.1       363.13685    29717  \n",
       "26   5.86              97         0.1        35.12930  2992547  \n",
       "27   6.12              98         0.1       279.14293   311487  \n",
       "28   6.38              97         0.1      2416.58824   326939  \n",
       "29   6.27              97         0.1       189.68156   339616  \n",
       "30   6.30              98         0.1      1453.64278     3511  \n",
       "⋮    ⋮                 ⋮          ⋮        ⋮          ⋮         \n",
       "2909 4.99              79          4.8      185.79336  1515321  \n",
       "2910 4.91              78          5.6     1734.93612 14699937  \n",
       "2911 4.26              81          6.3     1644.61967 14264756  \n",
       "2912 4.41              83          6.8     1463.21357   138533  \n",
       "2913 4.73              94          9.1     1139.11233 13456417  \n",
       "2914 4.87              87         11.9     1369.68249  1382517  \n",
       "2915 4.37               8         13.6      114.58799 12725974  \n",
       "2916 6.11              81         15.9       13.15420 12383446  \n",
       "2917 7.56              82         17.0      691.31782  1252156  \n",
       "2918 7.33              83         17.6       53.27722 11731746  \n",
       "2919 8.18              83         18.2      429.15834 11421984  \n",
       "2920 6.93              84         18.4      377.13524   111249  \n",
       "2921 6.56              85         18.6      378.27362  1824125  \n",
       "2922 7.16              85         18.7      341.95562  1531221  \n",
       "2923   NA              87          6.2      118.69383 15777451  \n",
       "2924 6.44              91          6.3      127.47462 15411675  \n",
       "2925 6.88              95          6.8      111.22740   155456  \n",
       "2926 6.69              95          8.8      955.64847  1471826  \n",
       "2927 6.31              93         13.3      839.92794 14386649  \n",
       "2928 5.37              89         15.7      713.63562  1486317  \n",
       "2929 6.26              73         18.1       65.82412  1381599  \n",
       "2930 4.96              75         20.5      325.67857 13558469  \n",
       "2931 4.47              73         23.7      396.99822  1332999  \n",
       "2932 5.12               7         26.8      414.79623 13124267  \n",
       "2933 6.44              68         30.3      444.76575   129432  \n",
       "2934 7.13              65         33.6      454.36665 12777511  \n",
       "2935 6.52              68         36.7      453.35116 12633897  \n",
       "2936 6.53              71         39.8       57.34834   125525  \n",
       "2937 6.16              75         42.1      548.58731 12366165  \n",
       "2938 7.10              78         43.5      547.35888 12222251  \n",
       "     thinness_1_19_years thinness_5_9_years income_composition_of_resources\n",
       "1    17.2                17.3               0.479                          \n",
       "2    17.5                17.5               0.476                          \n",
       "3    17.7                17.7               0.470                          \n",
       "4    17.9                18.0               0.463                          \n",
       "5    18.2                18.2               0.454                          \n",
       "6    18.4                18.4               0.448                          \n",
       "7    18.6                18.7               0.434                          \n",
       "8    18.8                18.9               0.433                          \n",
       "9    19.0                19.1               0.415                          \n",
       "10   19.2                19.3               0.405                          \n",
       "11   19.3                19.5               0.396                          \n",
       "12   19.5                19.7               0.381                          \n",
       "13   19.7                19.9               0.373                          \n",
       "14   19.9                 2.2               0.341                          \n",
       "15    2.1                 2.4               0.340                          \n",
       "16    2.3                 2.5               0.338                          \n",
       "17    1.2                 1.3               0.762                          \n",
       "18    1.2                 1.3               0.761                          \n",
       "19    1.3                 1.4               0.759                          \n",
       "20    1.3                 1.4               0.752                          \n",
       "21    1.4                 1.5               0.738                          \n",
       "22    1.4                 1.5               0.725                          \n",
       "23    1.5                 1.6               0.721                          \n",
       "24    1.6                 1.6               0.713                          \n",
       "25    1.6                 1.7               0.703                          \n",
       "26    1.7                 1.8               0.696                          \n",
       "27    1.8                 1.8               0.685                          \n",
       "28    1.8                 1.9               0.681                          \n",
       "29    1.9                 2.0               0.674                          \n",
       "30    2.0                 2.1               0.670                          \n",
       "⋮    ⋮                   ⋮                  ⋮                              \n",
       "2909  6.4                 6.2               0.565                          \n",
       "2910  6.5                 6.3               0.554                          \n",
       "2911  6.6                 6.4               0.543                          \n",
       "2912  6.7                 6.5               0.533                          \n",
       "2913  6.7                 6.6               0.518                          \n",
       "2914  6.8                 6.7               0.504                          \n",
       "2915  6.9                 6.8               0.492                          \n",
       "2916  7.0                 6.9               0.479                          \n",
       "2917  7.1                 7.0               0.467                          \n",
       "2918  7.2                 7.1               0.456                          \n",
       "2919  7.3                 7.2               0.443                          \n",
       "2920  7.4                 7.3               0.433                          \n",
       "2921  7.4                 7.4               0.424                          \n",
       "2922  7.5                 7.5               0.418                          \n",
       "2923  5.6                 5.5               0.507                          \n",
       "2924  5.9                 5.7               0.498                          \n",
       "2925  6.2                 6.0               0.488                          \n",
       "2926  6.5                 6.4               0.464                          \n",
       "2927  6.8                 6.7               0.452                          \n",
       "2928  7.1                 7.0               0.436                          \n",
       "2929  7.5                 7.4               0.419                          \n",
       "2930  7.8                 7.8               0.421                          \n",
       "2931  8.2                 8.2               0.414                          \n",
       "2932  8.6                 8.6               0.408                          \n",
       "2933  9.0                 9.0               0.406                          \n",
       "2934  9.4                 9.4               0.407                          \n",
       "2935  9.8                 9.9               0.418                          \n",
       "2936  1.2                 1.3               0.427                          \n",
       "2937  1.6                 1.7               0.427                          \n",
       "2938 11.0                11.2               0.434                          \n",
       "     schooling\n",
       "1    10.1     \n",
       "2    10.0     \n",
       "3     9.9     \n",
       "4     9.8     \n",
       "5     9.5     \n",
       "6     9.2     \n",
       "7     8.9     \n",
       "8     8.7     \n",
       "9     8.4     \n",
       "10    8.1     \n",
       "11    7.9     \n",
       "12    6.8     \n",
       "13    6.5     \n",
       "14    6.2     \n",
       "15    5.9     \n",
       "16    5.5     \n",
       "17   14.2     \n",
       "18   14.2     \n",
       "19   14.2     \n",
       "20   14.2     \n",
       "21   13.3     \n",
       "22   12.5     \n",
       "23   12.2     \n",
       "24   12.0     \n",
       "25   11.6     \n",
       "26   11.4     \n",
       "27   10.8     \n",
       "28   10.9     \n",
       "29   10.7     \n",
       "30   10.7     \n",
       "⋮    ⋮        \n",
       "2909 12.5     \n",
       "2910 12.3     \n",
       "2911 12.0     \n",
       "2912 11.8     \n",
       "2913 11.6     \n",
       "2914 11.4     \n",
       "2915 11.1     \n",
       "2916 10.9     \n",
       "2917 10.7     \n",
       "2918 10.5     \n",
       "2919 10.2     \n",
       "2920 10.0     \n",
       "2921  9.8     \n",
       "2922  9.6     \n",
       "2923 10.3     \n",
       "2924 10.3     \n",
       "2925 10.4     \n",
       "2926  9.8     \n",
       "2927 10.1     \n",
       "2928 10.0     \n",
       "2929  9.9     \n",
       "2930  9.7     \n",
       "2931  9.6     \n",
       "2932  9.5     \n",
       "2933  9.3     \n",
       "2934  9.2     \n",
       "2935  9.5     \n",
       "2936 10.0     \n",
       "2937  9.8     \n",
       "2938  9.8     "
      ]
     },
     "metadata": {},
     "output_type": "display_data"
    }
   ],
   "source": [
    "data <- read.csv(\"data.csv\")\n",
    "data"
   ]
  },
  {
   "cell_type": "code",
   "execution_count": 4,
   "metadata": {
    "vscode": {
     "languageId": "r"
    }
   },
   "outputs": [
    {
     "name": "stderr",
     "output_type": "stream",
     "text": [
      "Warning message:\n",
      "\"\u001b[1m\u001b[22mRemoved 203 rows containing missing values (`geom_point()`).\"\n"
     ]
    },
    {
     "data": {
      "image/png": "[encoded data removed]",
      "text/plain": [
       "plot without title"
      ]
     },
     "metadata": {
      "image/png": {
       "height": 420,
       "width": 420
      }
     },
     "output_type": "display_data"
    }
   ],
   "source": [
    "ggplot(data, aes(x=alcohol, y=life_expectancy)) + geom_point()"
   ]
  },
  {
   "cell_type": "code",
   "execution_count": 6,
   "metadata": {
    "vscode": {
     "languageId": "r"
    }
   },
   "outputs": [
    {
     "data": {
      "text/html": [
       "0.404876761126602"
      ],
      "text/latex": [
       "0.404876761126602"
      ],
      "text/markdown": [
       "0.404876761126602"
      ],
      "text/plain": [
       "[1] 0.4048768"
      ]
     },
     "metadata": {},
     "output_type": "display_data"
    }
   ],
   "source": [
    "cor(data$alcohol, data$life_expectancy, use=\"pairwise.complete.obs\")"
   ]
  },
  {
   "cell_type": "code",
   "execution_count": 8,
   "metadata": {
    "vscode": {
     "languageId": "r"
    }
   },
   "outputs": [
    {
     "data": {
      "text/html": [
       "0.442504524305733"
      ],
      "text/latex": [
       "0.442504524305733"
      ],
      "text/markdown": [
       "0.442504524305733"
      ],
      "text/plain": [
       "[1] 0.4425045"
      ]
     },
     "metadata": {},
     "output_type": "display_data"
    }
   ],
   "source": [
    "cor(data$alcohol, data$life_expectancy, use=\"pairwise.complete.obs\", method=\"spearman\")"
   ]
  },
  {
   "cell_type": "code",
   "execution_count": 10,
   "metadata": {
    "vscode": {
     "languageId": "r"
    }
   },
   "outputs": [
    {
     "name": "stderr",
     "output_type": "stream",
     "text": [
      "Warning message:\n",
      "\"\u001b[1m\u001b[22mRemoved 10 rows containing missing values (`geom_point()`).\"\n"
     ]
    },
    {
     "data": {
      "image/png": "[encoded data removed]",
      "text/plain": [
       "plot without title"
      ]
     },
     "metadata": {
      "image/png": {
       "height": 420,
       "width": 420
      }
     },
     "output_type": "display_data"
    }
   ],
   "source": [
    "ggplot(data, aes(x=HIV_AIDS, y=life_expectancy)) + geom_point()"
   ]
  },
  {
   "cell_type": "code",
   "execution_count": 14,
   "metadata": {
    "vscode": {
     "languageId": "r"
    }
   },
   "outputs": [
    {
     "data": {
      "text/html": [
       "-0.753641880116125"
      ],
      "text/latex": [
       "-0.753641880116125"
      ],
      "text/markdown": [
       "-0.753641880116125"
      ],
      "text/plain": [
       "[1] -0.7536419"
      ]
     },
     "metadata": {},
     "output_type": "display_data"
    }
   ],
   "source": [
    "cor(data$HIV_AIDS, data$life_expectancy, use=\"pairwise.complete.obs\", method=\"spearman\")"
   ]
  },
  {
   "cell_type": "code",
   "execution_count": 48,
   "metadata": {
    "vscode": {
     "languageId": "r"
    }
   },
   "outputs": [
    {
     "name": "stderr",
     "output_type": "stream",
     "text": [
      "Warning message:\n",
      "\"\u001b[1m\u001b[22mRemoved 453 rows containing missing values (`geom_point()`).\"\n"
     ]
    },
    {
     "data": {
      "text/html": [
       "0.642470938054315"
      ],
      "text/latex": [
       "0.642470938054315"
      ],
      "text/markdown": [
       "0.642470938054315"
      ],
      "text/plain": [
       "[1] 0.6424709"
      ]
     },
     "metadata": {},
     "output_type": "display_data"
    },
    {
     "data": {
      "image/png": "[encoded data removed]",
      "text/plain": [
       "plot without title"
      ]
     },
     "metadata": {
      "image/png": {
       "height": 420,
       "width": 420
      }
     },
     "output_type": "display_data"
    }
   ],
   "source": [
    "ggplot(data, aes(x=GDP, y=life_expectancy)) + geom_point()\n",
    "cor(data$GDP, data$life_expectancy, use=\"pairwise.complete.obs\", method=\"spearman\")"
   ]
  },
  {
   "cell_type": "code",
   "execution_count": 26,
   "metadata": {
    "vscode": {
     "languageId": "r"
    }
   },
   "outputs": [
    {
     "name": "stderr",
     "output_type": "stream",
     "text": [
      "Warning message:\n",
      "\"\u001b[1m\u001b[22mRemoved 10 rows containing missing values (`geom_point()`).\"\n"
     ]
    },
    {
     "data": {
      "text/html": [
       "-0.650006967892821"
      ],
      "text/latex": [
       "-0.650006967892821"
      ],
      "text/markdown": [
       "-0.650006967892821"
      ],
      "text/plain": [
       "[1] -0.650007"
      ]
     },
     "metadata": {},
     "output_type": "display_data"
    },
    {
     "data": {
      "image/png": "[encoded data removed]",
      "text/plain": [
       "plot without title"
      ]
     },
     "metadata": {
      "image/png": {
       "height": 420,
       "width": 420
      }
     },
     "output_type": "display_data"
    }
   ],
   "source": [
    "ggplot(data, aes(x=adult_mortality, y=life_expectancy)) + geom_point()\n",
    "cor(data$adult_mortality, data$life_expectancy, use=\"pairwise.complete.obs\", method=\"spearman\")"
   ]
  },
  {
   "cell_type": "code",
   "execution_count": 47,
   "metadata": {
    "vscode": {
     "languageId": "r"
    }
   },
   "outputs": [
    {
     "name": "stderr",
     "output_type": "stream",
     "text": [
      "Warning message:\n",
      "\"\u001b[1m\u001b[22mRemoved 147 rows containing missing values (`geom_point()`).\"\n"
     ]
    },
    {
     "data": {
      "text/html": [
       "-0.600727477574373"
      ],
      "text/latex": [
       "-0.600727477574373"
      ],
      "text/markdown": [
       "-0.600727477574373"
      ],
      "text/plain": [
       "[1] -0.6007275"
      ]
     },
     "metadata": {},
     "output_type": "display_data"
    },
    {
     "data": {
      "image/png": "[encoded data removed]",
      "text/plain": [
       "plot without title"
      ]
     },
     "metadata": {
      "image/png": {
       "height": 420,
       "width": 420
      }
     },
     "output_type": "display_data"
    }
   ],
   "source": [
    "ggplot(data, aes(x=infant_deaths, y=life_expectancy)) + geom_point() + xlim(0, 100)\n",
    "cor(data$infant_deaths, data$life_expectancy, use=\"pairwise.complete.obs\", method=\"spearman\")"
   ]
  },
  {
   "cell_type": "code",
   "execution_count": 50,
   "metadata": {
    "vscode": {
     "languageId": "r"
    }
   },
   "outputs": [
    {
     "name": "stderr",
     "output_type": "stream",
     "text": [
      "Warning message:\n",
      "\"\u001b[1m\u001b[22mRemoved 472 rows containing missing values (`geom_point()`).\"\n"
     ]
    },
    {
     "data": {
      "text/html": [
       "0.481300846443494"
      ],
      "text/latex": [
       "0.481300846443494"
      ],
      "text/markdown": [
       "0.481300846443494"
      ],
      "text/plain": [
       "[1] 0.4813008"
      ]
     },
     "metadata": {},
     "output_type": "display_data"
    },
    {
     "data": {
      "image/png": "[encoded data removed]",
      "text/plain": [
       "plot without title"
      ]
     },
     "metadata": {
      "image/png": {
       "height": 420,
       "width": 420
      }
     },
     "output_type": "display_data"
    }
   ],
   "source": [
    "ggplot(data, aes(x=GDP, y=BMI)) + geom_point()\n",
    "cor(data$GDP, data$BMI, use=\"pairwise.complete.obs\", method=\"spearman\")"
   ]
  },
  {
   "cell_type": "code",
   "execution_count": 53,
   "metadata": {
    "vscode": {
     "languageId": "r"
    }
   },
   "outputs": [
    {
     "data": {
      "text/html": [
       "<style>\n",
       ".list-inline {list-style: none; margin:0; padding: 0}\n",
       ".list-inline>li {display: inline-block}\n",
       ".list-inline>li:not(:last-child)::after {content: \"\\00b7\"; padding: 0 .5ex}\n",
       "</style>\n",
       "<ol class=list-inline><li>1</li><li>3</li><li>5</li><li>7</li><li>9</li><li>11</li><li>13</li><li>15</li><li>17</li><li>19</li><li>21</li><li>23</li><li>25</li><li>27</li><li>29</li><li>31</li><li>33</li><li>35</li><li>37</li><li>39</li><li>41</li><li>43</li><li>45</li><li>47</li><li>49</li><li>51</li><li>53</li><li>55</li><li>57</li><li>59</li><li>61</li><li>63</li><li>65</li><li>67</li><li>69</li><li>71</li><li>73</li><li>75</li><li>77</li><li>79</li><li>81</li><li>83</li><li>85</li><li>87</li><li>89</li><li>91</li><li>93</li><li>95</li><li>97</li><li>99</li><li>101</li><li>103</li><li>105</li><li>107</li><li>109</li><li>111</li><li>113</li><li>115</li><li>117</li><li>119</li><li>121</li><li>123</li><li>125</li><li>127</li><li>129</li><li>131</li><li>133</li><li>135</li><li>137</li><li>139</li><li>141</li><li>143</li><li>145</li><li>147</li><li>149</li><li>151</li><li>153</li><li>155</li><li>157</li><li>159</li><li>161</li><li>163</li><li>165</li><li>167</li><li>169</li><li>171</li><li>173</li><li>175</li><li>177</li><li>179</li><li>181</li><li>183</li><li>185</li><li>187</li><li>189</li><li>191</li><li>193</li><li>195</li><li>197</li><li>199</li><li>201</li><li>203</li><li>205</li><li>207</li><li>209</li><li>211</li><li>213</li><li>215</li><li>217</li><li>219</li><li>221</li><li>223</li><li>225</li><li>227</li><li>229</li><li>231</li><li>233</li><li>235</li><li>237</li><li>239</li><li>241</li><li>243</li><li>245</li><li>247</li><li>249</li><li>251</li><li>253</li><li>255</li><li>257</li><li>259</li><li>261</li><li>263</li><li>265</li><li>267</li><li>269</li><li>271</li><li>273</li><li>275</li><li>277</li><li>279</li><li>281</li><li>283</li><li>285</li><li>287</li><li>289</li><li>291</li><li>293</li><li>295</li><li>297</li><li>299</li><li>301</li><li>303</li><li>305</li><li>307</li><li>309</li><li>311</li><li>313</li><li>315</li><li>317</li><li>319</li><li>321</li><li>323</li><li>325</li><li>327</li><li>329</li><li>331</li><li>333</li><li>335</li><li>337</li><li>339</li><li>341</li><li>343</li><li>345</li><li>347</li><li>349</li><li>351</li><li>353</li><li>355</li><li>357</li><li>359</li><li>361</li><li>363</li><li>365</li><li>367</li><li>369</li><li>371</li><li>373</li><li>375</li><li>377</li><li>379</li><li>381</li><li>383</li><li>385</li><li>387</li><li>389</li><li>391</li><li>393</li><li>395</li><li>397</li><li>399</li><li>401</li></ol>\n"
      ],
      "text/latex": [
       "\\begin{enumerate*}\n",
       "\\item 1\n",
       "\\item 3\n",
       "\\item 5\n",
       "\\item 7\n",
       "\\item 9\n",
       "\\item 11\n",
       "\\item 13\n",
       "\\item 15\n",
       "\\item 17\n",
       "\\item 19\n",
       "\\item 21\n",
       "\\item 23\n",
       "\\item 25\n",
       "\\item 27\n",
       "\\item 29\n",
       "\\item 31\n",
       "\\item 33\n",
       "\\item 35\n",
       "\\item 37\n",
       "\\item 39\n",
       "\\item 41\n",
       "\\item 43\n",
       "\\item 45\n",
       "\\item 47\n",
       "\\item 49\n",
       "\\item 51\n",
       "\\item 53\n",
       "\\item 55\n",
       "\\item 57\n",
       "\\item 59\n",
       "\\item 61\n",
       "\\item 63\n",
       "\\item 65\n",
       "\\item 67\n",
       "\\item 69\n",
       "\\item 71\n",
       "\\item 73\n",
       "\\item 75\n",
       "\\item 77\n",
       "\\item 79\n",
       "\\item 81\n",
       "\\item 83\n",
       "\\item 85\n",
       "\\item 87\n",
       "\\item 89\n",
       "\\item 91\n",
       "\\item 93\n",
       "\\item 95\n",
       "\\item 97\n",
       "\\item 99\n",
       "\\item 101\n",
       "\\item 103\n",
       "\\item 105\n",
       "\\item 107\n",
       "\\item 109\n",
       "\\item 111\n",
       "\\item 113\n",
       "\\item 115\n",
       "\\item 117\n",
       "\\item 119\n",
       "\\item 121\n",
       "\\item 123\n",
       "\\item 125\n",
       "\\item 127\n",
       "\\item 129\n",
       "\\item 131\n",
       "\\item 133\n",
       "\\item 135\n",
       "\\item 137\n",
       "\\item 139\n",
       "\\item 141\n",
       "\\item 143\n",
       "\\item 145\n",
       "\\item 147\n",
       "\\item 149\n",
       "\\item 151\n",
       "\\item 153\n",
       "\\item 155\n",
       "\\item 157\n",
       "\\item 159\n",
       "\\item 161\n",
       "\\item 163\n",
       "\\item 165\n",
       "\\item 167\n",
       "\\item 169\n",
       "\\item 171\n",
       "\\item 173\n",
       "\\item 175\n",
       "\\item 177\n",
       "\\item 179\n",
       "\\item 181\n",
       "\\item 183\n",
       "\\item 185\n",
       "\\item 187\n",
       "\\item 189\n",
       "\\item 191\n",
       "\\item 193\n",
       "\\item 195\n",
       "\\item 197\n",
       "\\item 199\n",
       "\\item 201\n",
       "\\item 203\n",
       "\\item 205\n",
       "\\item 207\n",
       "\\item 209\n",
       "\\item 211\n",
       "\\item 213\n",
       "\\item 215\n",
       "\\item 217\n",
       "\\item 219\n",
       "\\item 221\n",
       "\\item 223\n",
       "\\item 225\n",
       "\\item 227\n",
       "\\item 229\n",
       "\\item 231\n",
       "\\item 233\n",
       "\\item 235\n",
       "\\item 237\n",
       "\\item 239\n",
       "\\item 241\n",
       "\\item 243\n",
       "\\item 245\n",
       "\\item 247\n",
       "\\item 249\n",
       "\\item 251\n",
       "\\item 253\n",
       "\\item 255\n",
       "\\item 257\n",
       "\\item 259\n",
       "\\item 261\n",
       "\\item 263\n",
       "\\item 265\n",
       "\\item 267\n",
       "\\item 269\n",
       "\\item 271\n",
       "\\item 273\n",
       "\\item 275\n",
       "\\item 277\n",
       "\\item 279\n",
       "\\item 281\n",
       "\\item 283\n",
       "\\item 285\n",
       "\\item 287\n",
       "\\item 289\n",
       "\\item 291\n",
       "\\item 293\n",
       "\\item 295\n",
       "\\item 297\n",
       "\\item 299\n",
       "\\item 301\n",
       "\\item 303\n",
       "\\item 305\n",
       "\\item 307\n",
       "\\item 309\n",
       "\\item 311\n",
       "\\item 313\n",
       "\\item 315\n",
       "\\item 317\n",
       "\\item 319\n",
       "\\item 321\n",
       "\\item 323\n",
       "\\item 325\n",
       "\\item 327\n",
       "\\item 329\n",
       "\\item 331\n",
       "\\item 333\n",
       "\\item 335\n",
       "\\item 337\n",
       "\\item 339\n",
       "\\item 341\n",
       "\\item 343\n",
       "\\item 345\n",
       "\\item 347\n",
       "\\item 349\n",
       "\\item 351\n",
       "\\item 353\n",
       "\\item 355\n",
       "\\item 357\n",
       "\\item 359\n",
       "\\item 361\n",
       "\\item 363\n",
       "\\item 365\n",
       "\\item 367\n",
       "\\item 369\n",
       "\\item 371\n",
       "\\item 373\n",
       "\\item 375\n",
       "\\item 377\n",
       "\\item 379\n",
       "\\item 381\n",
       "\\item 383\n",
       "\\item 385\n",
       "\\item 387\n",
       "\\item 389\n",
       "\\item 391\n",
       "\\item 393\n",
       "\\item 395\n",
       "\\item 397\n",
       "\\item 399\n",
       "\\item 401\n",
       "\\end{enumerate*}\n"
      ],
      "text/markdown": [
       "1. 1\n",
       "2. 3\n",
       "3. 5\n",
       "4. 7\n",
       "5. 9\n",
       "6. 11\n",
       "7. 13\n",
       "8. 15\n",
       "9. 17\n",
       "10. 19\n",
       "11. 21\n",
       "12. 23\n",
       "13. 25\n",
       "14. 27\n",
       "15. 29\n",
       "16. 31\n",
       "17. 33\n",
       "18. 35\n",
       "19. 37\n",
       "20. 39\n",
       "21. 41\n",
       "22. 43\n",
       "23. 45\n",
       "24. 47\n",
       "25. 49\n",
       "26. 51\n",
       "27. 53\n",
       "28. 55\n",
       "29. 57\n",
       "30. 59\n",
       "31. 61\n",
       "32. 63\n",
       "33. 65\n",
       "34. 67\n",
       "35. 69\n",
       "36. 71\n",
       "37. 73\n",
       "38. 75\n",
       "39. 77\n",
       "40. 79\n",
       "41. 81\n",
       "42. 83\n",
       "43. 85\n",
       "44. 87\n",
       "45. 89\n",
       "46. 91\n",
       "47. 93\n",
       "48. 95\n",
       "49. 97\n",
       "50. 99\n",
       "51. 101\n",
       "52. 103\n",
       "53. 105\n",
       "54. 107\n",
       "55. 109\n",
       "56. 111\n",
       "57. 113\n",
       "58. 115\n",
       "59. 117\n",
       "60. 119\n",
       "61. 121\n",
       "62. 123\n",
       "63. 125\n",
       "64. 127\n",
       "65. 129\n",
       "66. 131\n",
       "67. 133\n",
       "68. 135\n",
       "69. 137\n",
       "70. 139\n",
       "71. 141\n",
       "72. 143\n",
       "73. 145\n",
       "74. 147\n",
       "75. 149\n",
       "76. 151\n",
       "77. 153\n",
       "78. 155\n",
       "79. 157\n",
       "80. 159\n",
       "81. 161\n",
       "82. 163\n",
       "83. 165\n",
       "84. 167\n",
       "85. 169\n",
       "86. 171\n",
       "87. 173\n",
       "88. 175\n",
       "89. 177\n",
       "90. 179\n",
       "91. 181\n",
       "92. 183\n",
       "93. 185\n",
       "94. 187\n",
       "95. 189\n",
       "96. 191\n",
       "97. 193\n",
       "98. 195\n",
       "99. 197\n",
       "100. 199\n",
       "101. 201\n",
       "102. 203\n",
       "103. 205\n",
       "104. 207\n",
       "105. 209\n",
       "106. 211\n",
       "107. 213\n",
       "108. 215\n",
       "109. 217\n",
       "110. 219\n",
       "111. 221\n",
       "112. 223\n",
       "113. 225\n",
       "114. 227\n",
       "115. 229\n",
       "116. 231\n",
       "117. 233\n",
       "118. 235\n",
       "119. 237\n",
       "120. 239\n",
       "121. 241\n",
       "122. 243\n",
       "123. 245\n",
       "124. 247\n",
       "125. 249\n",
       "126. 251\n",
       "127. 253\n",
       "128. 255\n",
       "129. 257\n",
       "130. 259\n",
       "131. 261\n",
       "132. 263\n",
       "133. 265\n",
       "134. 267\n",
       "135. 269\n",
       "136. 271\n",
       "137. 273\n",
       "138. 275\n",
       "139. 277\n",
       "140. 279\n",
       "141. 281\n",
       "142. 283\n",
       "143. 285\n",
       "144. 287\n",
       "145. 289\n",
       "146. 291\n",
       "147. 293\n",
       "148. 295\n",
       "149. 297\n",
       "150. 299\n",
       "151. 301\n",
       "152. 303\n",
       "153. 305\n",
       "154. 307\n",
       "155. 309\n",
       "156. 311\n",
       "157. 313\n",
       "158. 315\n",
       "159. 317\n",
       "160. 319\n",
       "161. 321\n",
       "162. 323\n",
       "163. 325\n",
       "164. 327\n",
       "165. 329\n",
       "166. 331\n",
       "167. 333\n",
       "168. 335\n",
       "169. 337\n",
       "170. 339\n",
       "171. 341\n",
       "172. 343\n",
       "173. 345\n",
       "174. 347\n",
       "175. 349\n",
       "176. 351\n",
       "177. 353\n",
       "178. 355\n",
       "179. 357\n",
       "180. 359\n",
       "181. 361\n",
       "182. 363\n",
       "183. 365\n",
       "184. 367\n",
       "185. 369\n",
       "186. 371\n",
       "187. 373\n",
       "188. 375\n",
       "189. 377\n",
       "190. 379\n",
       "191. 381\n",
       "192. 383\n",
       "193. 385\n",
       "194. 387\n",
       "195. 389\n",
       "196. 391\n",
       "197. 393\n",
       "198. 395\n",
       "199. 397\n",
       "200. 399\n",
       "201. 401\n",
       "\n",
       "\n"
      ],
      "text/plain": [
       "  [1]   1   3   5   7   9  11  13  15  17  19  21  23  25  27  29  31  33  35\n",
       " [19]  37  39  41  43  45  47  49  51  53  55  57  59  61  63  65  67  69  71\n",
       " [37]  73  75  77  79  81  83  85  87  89  91  93  95  97  99 101 103 105 107\n",
       " [55] 109 111 113 115 117 119 121 123 125 127 129 131 133 135 137 139 141 143\n",
       " [73] 145 147 149 151 153 155 157 159 161 163 165 167 169 171 173 175 177 179\n",
       " [91] 181 183 185 187 189 191 193 195 197 199 201 203 205 207 209 211 213 215\n",
       "[109] 217 219 221 223 225 227 229 231 233 235 237 239 241 243 245 247 249 251\n",
       "[127] 253 255 257 259 261 263 265 267 269 271 273 275 277 279 281 283 285 287\n",
       "[145] 289 291 293 295 297 299 301 303 305 307 309 311 313 315 317 319 321 323\n",
       "[163] 325 327 329 331 333 335 337 339 341 343 345 347 349 351 353 355 357 359\n",
       "[181] 361 363 365 367 369 371 373 375 377 379 381 383 385 387 389 391 393 395\n",
       "[199] 397 399 401"
      ]
     },
     "metadata": {},
     "output_type": "display_data"
    }
   ],
   "source": [
    "a = 0:200\n",
    "a * 2 + 1"
   ]
  },
  {
   "cell_type": "code",
   "execution_count": 62,
   "metadata": {
    "vscode": {
     "languageId": "r"
    }
   },
   "outputs": [
    {
     "name": "stderr",
     "output_type": "stream",
     "text": [
      "Warning message:\n",
      "\"\u001b[1m\u001b[22mRemoved 10 rows containing missing values (`geom_point()`).\"\n"
     ]
    },
    {
     "data": {
      "image/png": "[encoded data removed]",
      "text/plain": [
       "plot without title"
      ]
     },
     "metadata": {
      "image/png": {
       "height": 420,
       "width": 420
      }
     },
     "output_type": "display_data"
    }
   ],
   "source": [
    "ggplot(data, aes(x=adult_mortality, y=life_expectancy)) + geom_point()"
   ]
  },
  {
   "cell_type": "code",
   "execution_count": 28,
   "metadata": {
    "vscode": {
     "languageId": "r"
    }
   },
   "outputs": [],
   "source": [
    "poland <- data %>%\n",
    "  filter(country == \"Poland\")"
   ]
  },
  {
   "cell_type": "code",
   "execution_count": 34,
   "metadata": {
    "vscode": {
     "languageId": "r"
    }
   },
   "outputs": [
    {
     "data": {
      "text/html": [
       "<table class=\"dataframe\">\n",
       "<caption>A data.frame: 16 × 22</caption>\n",
       "<thead>\n",
       "\t<tr><th scope=col>country</th><th scope=col>year</th><th scope=col>status</th><th scope=col>life_expectancy</th><th scope=col>adult_mortality</th><th scope=col>infant_deaths</th><th scope=col>alcohol</th><th scope=col>percentage_expenditure</th><th scope=col>hepatitis_B</th><th scope=col>measles</th><th scope=col>⋯</th><th scope=col>polio</th><th scope=col>total_expenditure</th><th scope=col>diphtheria</th><th scope=col>HIV_AIDS</th><th scope=col>GDP</th><th scope=col>population</th><th scope=col>thinness_1_19_years</th><th scope=col>thinness_5_9_years</th><th scope=col>income_composition_of_resources</th><th scope=col>schooling</th></tr>\n",
       "\t<tr><th scope=col>&lt;chr&gt;</th><th scope=col>&lt;int&gt;</th><th scope=col>&lt;chr&gt;</th><th scope=col>&lt;dbl&gt;</th><th scope=col>&lt;int&gt;</th><th scope=col>&lt;int&gt;</th><th scope=col>&lt;dbl&gt;</th><th scope=col>&lt;dbl&gt;</th><th scope=col>&lt;int&gt;</th><th scope=col>&lt;int&gt;</th><th scope=col>⋯</th><th scope=col>&lt;int&gt;</th><th scope=col>&lt;dbl&gt;</th><th scope=col>&lt;int&gt;</th><th scope=col>&lt;dbl&gt;</th><th scope=col>&lt;dbl&gt;</th><th scope=col>&lt;dbl&gt;</th><th scope=col>&lt;dbl&gt;</th><th scope=col>&lt;dbl&gt;</th><th scope=col>&lt;dbl&gt;</th><th scope=col>&lt;dbl&gt;</th></tr>\n",
       "</thead>\n",
       "<tbody>\n",
       "\t<tr><td>Poland</td><td>2015</td><td>Developed</td><td>77.5</td><td>117</td><td>2</td><td>   NA</td><td>   0.000000</td><td>96</td><td>  0</td><td>⋯</td><td>92</td><td>  NA</td><td>98</td><td>0.1</td><td>12565.9876</td><td>37986412</td><td>1.9</td><td>2.0</td><td>0.852</td><td>16.4</td></tr>\n",
       "\t<tr><td>Poland</td><td>2014</td><td>Developed</td><td>77.3</td><td> 12</td><td>2</td><td>10.71</td><td> 243.808475</td><td>96</td><td>  0</td><td>⋯</td><td>94</td><td>6.35</td><td>98</td><td>0.1</td><td>14341.6750</td><td> 3811735</td><td>1.9</td><td>2.1</td><td>0.850</td><td>16.4</td></tr>\n",
       "\t<tr><td>Poland</td><td>2013</td><td>Developed</td><td>77.1</td><td> 12</td><td>2</td><td>11.63</td><td>  23.435335</td><td>96</td><td> 84</td><td>⋯</td><td>95</td><td>6.40</td><td>99</td><td>0.1</td><td> 1378.5491</td><td>  384196</td><td>2.0</td><td>2.1</td><td>0.838</td><td>15.4</td></tr>\n",
       "\t<tr><td>Poland</td><td>2012</td><td>Developed</td><td>76.8</td><td>125</td><td>2</td><td>10.81</td><td> 230.040097</td><td>97</td><td> 71</td><td>⋯</td><td>95</td><td>6.62</td><td>99</td><td>0.1</td><td>13145.1484</td><td> 3863164</td><td>2.0</td><td>2.1</td><td>0.834</td><td>15.3</td></tr>\n",
       "\t<tr><td>Poland</td><td>2011</td><td>Developed</td><td>76.7</td><td>128</td><td>2</td><td>10.93</td><td> 250.077378</td><td>98</td><td>  0</td><td>⋯</td><td>96</td><td>6.70</td><td>99</td><td>0.1</td><td>13893.1877</td><td> 3863255</td><td>2.0</td><td>2.2</td><td>0.829</td><td>15.4</td></tr>\n",
       "\t<tr><td>Poland</td><td>2010</td><td>Developed</td><td>76.3</td><td> 13</td><td>2</td><td>10.59</td><td> 220.491685</td><td>98</td><td> 13</td><td>⋯</td><td>96</td><td>6.88</td><td>99</td><td>0.1</td><td>12599.5249</td><td> 3842794</td><td>2.1</td><td>2.2</td><td>0.822</td><td>15.1</td></tr>\n",
       "\t<tr><td>Poland</td><td>2009</td><td>Developed</td><td>75.7</td><td>136</td><td>2</td><td>10.70</td><td>1299.159757</td><td>98</td><td>115</td><td>⋯</td><td>96</td><td>7.12</td><td>99</td><td>0.1</td><td>11527.5932</td><td> 3815163</td><td>2.1</td><td>2.3</td><td>0.818</td><td>15.1</td></tr>\n",
       "\t<tr><td>Poland</td><td>2008</td><td>Developed</td><td>75.5</td><td> 14</td><td>2</td><td>11.40</td><td>  15.714748</td><td>98</td><td>  0</td><td>⋯</td><td>96</td><td>6.88</td><td>99</td><td>0.1</td><td>  141.4469</td><td>38125759</td><td>2.2</td><td>2.3</td><td>0.813</td><td>15.0</td></tr>\n",
       "\t<tr><td>Poland</td><td>2007</td><td>Developed</td><td>75.3</td><td>144</td><td>2</td><td>10.90</td><td>  14.304245</td><td>98</td><td> 40</td><td>⋯</td><td>99</td><td>6.28</td><td>99</td><td>0.1</td><td> 1126.3185</td><td>  381256</td><td>2.2</td><td>2.4</td><td>0.808</td><td>15.0</td></tr>\n",
       "\t<tr><td>Poland</td><td>2006</td><td>Developed</td><td>75.2</td><td>144</td><td>2</td><td>10.40</td><td>   9.145556</td><td>98</td><td>120</td><td>⋯</td><td>99</td><td>6.17</td><td>99</td><td>0.1</td><td>   94.7726</td><td>38141267</td><td>2.3</td><td>2.4</td><td>0.803</td><td>15.0</td></tr>\n",
       "\t<tr><td>Poland</td><td>2005</td><td>Developed</td><td>75.0</td><td>144</td><td>2</td><td> 9.50</td><td>  79.415027</td><td>98</td><td> 13</td><td>⋯</td><td>99</td><td>6.20</td><td>99</td><td>0.1</td><td>  821.2516</td><td>38165445</td><td>2.3</td><td>2.5</td><td>0.797</td><td>14.8</td></tr>\n",
       "\t<tr><td>Poland</td><td>2004</td><td>Developed</td><td>74.9</td><td>143</td><td>2</td><td> 9.19</td><td> 648.074345</td><td>98</td><td> 11</td><td>⋯</td><td>99</td><td>6.19</td><td>99</td><td>0.1</td><td> 6681.1788</td><td>38182222</td><td>2.4</td><td>2.5</td><td>0.800</td><td>15.5</td></tr>\n",
       "\t<tr><td>Poland</td><td>2003</td><td>Developed</td><td>74.7</td><td>142</td><td>3</td><td> 9.06</td><td> 542.023500</td><td>97</td><td> 48</td><td>⋯</td><td>98</td><td>6.22</td><td>99</td><td>0.1</td><td> 5693.5242</td><td>  382457</td><td>2.4</td><td>2.6</td><td>0.796</td><td>15.3</td></tr>\n",
       "\t<tr><td>Poland</td><td>2002</td><td>Developed</td><td>74.5</td><td>145</td><td>3</td><td> 8.02</td><td> 516.055439</td><td>98</td><td> 34</td><td>⋯</td><td>98</td><td>6.32</td><td>99</td><td>0.1</td><td> 5196.9329</td><td> 3823364</td><td>2.5</td><td>2.6</td><td>0.790</td><td>15.0</td></tr>\n",
       "\t<tr><td>Poland</td><td>2001</td><td>Developed</td><td>74.2</td><td>149</td><td>3</td><td> 7.74</td><td> 466.738311</td><td>95</td><td>133</td><td>⋯</td><td>98</td><td>5.86</td><td>98</td><td>0.1</td><td> 4981.1986</td><td> 3824876</td><td>2.5</td><td>2.7</td><td>0.784</td><td>14.7</td></tr>\n",
       "\t<tr><td>Poland</td><td>2000</td><td>Developed</td><td>73.7</td><td>153</td><td>3</td><td> 8.40</td><td> 412.432397</td><td>99</td><td> 77</td><td>⋯</td><td>98</td><td>5.50</td><td>98</td><td>0.1</td><td> 4492.7276</td><td>38258629</td><td>2.5</td><td>2.8</td><td>0.777</td><td>14.6</td></tr>\n",
       "</tbody>\n",
       "</table>\n"
      ],
      "text/latex": [
       "A data.frame: 16 × 22\n",
       "\\begin{tabular}{lllllllllllllllllllll}\n",
       " country & year & status & life\\_expectancy & adult\\_mortality & infant\\_deaths & alcohol & percentage\\_expenditure & hepatitis\\_B & measles & ⋯ & polio & total\\_expenditure & diphtheria & HIV\\_AIDS & GDP & population & thinness\\_1\\_19\\_years & thinness\\_5\\_9\\_years & income\\_composition\\_of\\_resources & schooling\\\\\n",
       " <chr> & <int> & <chr> & <dbl> & <int> & <int> & <dbl> & <dbl> & <int> & <int> & ⋯ & <int> & <dbl> & <int> & <dbl> & <dbl> & <dbl> & <dbl> & <dbl> & <dbl> & <dbl>\\\\\n",
       "\\hline\n",
       "\t Poland & 2015 & Developed & 77.5 & 117 & 2 &    NA &    0.000000 & 96 &   0 & ⋯ & 92 &   NA & 98 & 0.1 & 12565.9876 & 37986412 & 1.9 & 2.0 & 0.852 & 16.4\\\\\n",
       "\t Poland & 2014 & Developed & 77.3 &  12 & 2 & 10.71 &  243.808475 & 96 &   0 & ⋯ & 94 & 6.35 & 98 & 0.1 & 14341.6750 &  3811735 & 1.9 & 2.1 & 0.850 & 16.4\\\\\n",
       "\t Poland & 2013 & Developed & 77.1 &  12 & 2 & 11.63 &   23.435335 & 96 &  84 & ⋯ & 95 & 6.40 & 99 & 0.1 &  1378.5491 &   384196 & 2.0 & 2.1 & 0.838 & 15.4\\\\\n",
       "\t Poland & 2012 & Developed & 76.8 & 125 & 2 & 10.81 &  230.040097 & 97 &  71 & ⋯ & 95 & 6.62 & 99 & 0.1 & 13145.1484 &  3863164 & 2.0 & 2.1 & 0.834 & 15.3\\\\\n",
       "\t Poland & 2011 & Developed & 76.7 & 128 & 2 & 10.93 &  250.077378 & 98 &   0 & ⋯ & 96 & 6.70 & 99 & 0.1 & 13893.1877 &  3863255 & 2.0 & 2.2 & 0.829 & 15.4\\\\\n",
       "\t Poland & 2010 & Developed & 76.3 &  13 & 2 & 10.59 &  220.491685 & 98 &  13 & ⋯ & 96 & 6.88 & 99 & 0.1 & 12599.5249 &  3842794 & 2.1 & 2.2 & 0.822 & 15.1\\\\\n",
       "\t Poland & 2009 & Developed & 75.7 & 136 & 2 & 10.70 & 1299.159757 & 98 & 115 & ⋯ & 96 & 7.12 & 99 & 0.1 & 11527.5932 &  3815163 & 2.1 & 2.3 & 0.818 & 15.1\\\\\n",
       "\t Poland & 2008 & Developed & 75.5 &  14 & 2 & 11.40 &   15.714748 & 98 &   0 & ⋯ & 96 & 6.88 & 99 & 0.1 &   141.4469 & 38125759 & 2.2 & 2.3 & 0.813 & 15.0\\\\\n",
       "\t Poland & 2007 & Developed & 75.3 & 144 & 2 & 10.90 &   14.304245 & 98 &  40 & ⋯ & 99 & 6.28 & 99 & 0.1 &  1126.3185 &   381256 & 2.2 & 2.4 & 0.808 & 15.0\\\\\n",
       "\t Poland & 2006 & Developed & 75.2 & 144 & 2 & 10.40 &    9.145556 & 98 & 120 & ⋯ & 99 & 6.17 & 99 & 0.1 &    94.7726 & 38141267 & 2.3 & 2.4 & 0.803 & 15.0\\\\\n",
       "\t Poland & 2005 & Developed & 75.0 & 144 & 2 &  9.50 &   79.415027 & 98 &  13 & ⋯ & 99 & 6.20 & 99 & 0.1 &   821.2516 & 38165445 & 2.3 & 2.5 & 0.797 & 14.8\\\\\n",
       "\t Poland & 2004 & Developed & 74.9 & 143 & 2 &  9.19 &  648.074345 & 98 &  11 & ⋯ & 99 & 6.19 & 99 & 0.1 &  6681.1788 & 38182222 & 2.4 & 2.5 & 0.800 & 15.5\\\\\n",
       "\t Poland & 2003 & Developed & 74.7 & 142 & 3 &  9.06 &  542.023500 & 97 &  48 & ⋯ & 98 & 6.22 & 99 & 0.1 &  5693.5242 &   382457 & 2.4 & 2.6 & 0.796 & 15.3\\\\\n",
       "\t Poland & 2002 & Developed & 74.5 & 145 & 3 &  8.02 &  516.055439 & 98 &  34 & ⋯ & 98 & 6.32 & 99 & 0.1 &  5196.9329 &  3823364 & 2.5 & 2.6 & 0.790 & 15.0\\\\\n",
       "\t Poland & 2001 & Developed & 74.2 & 149 & 3 &  7.74 &  466.738311 & 95 & 133 & ⋯ & 98 & 5.86 & 98 & 0.1 &  4981.1986 &  3824876 & 2.5 & 2.7 & 0.784 & 14.7\\\\\n",
       "\t Poland & 2000 & Developed & 73.7 & 153 & 3 &  8.40 &  412.432397 & 99 &  77 & ⋯ & 98 & 5.50 & 98 & 0.1 &  4492.7276 & 38258629 & 2.5 & 2.8 & 0.777 & 14.6\\\\\n",
       "\\end{tabular}\n"
      ],
      "text/markdown": [
       "\n",
       "A data.frame: 16 × 22\n",
       "\n",
       "| country &lt;chr&gt; | year &lt;int&gt; | status &lt;chr&gt; | life_expectancy &lt;dbl&gt; | adult_mortality &lt;int&gt; | infant_deaths &lt;int&gt; | alcohol &lt;dbl&gt; | percentage_expenditure &lt;dbl&gt; | hepatitis_B &lt;int&gt; | measles &lt;int&gt; | ⋯ ⋯ | polio &lt;int&gt; | total_expenditure &lt;dbl&gt; | diphtheria &lt;int&gt; | HIV_AIDS &lt;dbl&gt; | GDP &lt;dbl&gt; | population &lt;dbl&gt; | thinness_1_19_years &lt;dbl&gt; | thinness_5_9_years &lt;dbl&gt; | income_composition_of_resources &lt;dbl&gt; | schooling &lt;dbl&gt; |\n",
       "|---|---|---|---|---|---|---|---|---|---|---|---|---|---|---|---|---|---|---|---|---|\n",
       "| Poland | 2015 | Developed | 77.5 | 117 | 2 |    NA |    0.000000 | 96 |   0 | ⋯ | 92 |   NA | 98 | 0.1 | 12565.9876 | 37986412 | 1.9 | 2.0 | 0.852 | 16.4 |\n",
       "| Poland | 2014 | Developed | 77.3 |  12 | 2 | 10.71 |  243.808475 | 96 |   0 | ⋯ | 94 | 6.35 | 98 | 0.1 | 14341.6750 |  3811735 | 1.9 | 2.1 | 0.850 | 16.4 |\n",
       "| Poland | 2013 | Developed | 77.1 |  12 | 2 | 11.63 |   23.435335 | 96 |  84 | ⋯ | 95 | 6.40 | 99 | 0.1 |  1378.5491 |   384196 | 2.0 | 2.1 | 0.838 | 15.4 |\n",
       "| Poland | 2012 | Developed | 76.8 | 125 | 2 | 10.81 |  230.040097 | 97 |  71 | ⋯ | 95 | 6.62 | 99 | 0.1 | 13145.1484 |  3863164 | 2.0 | 2.1 | 0.834 | 15.3 |\n",
       "| Poland | 2011 | Developed | 76.7 | 128 | 2 | 10.93 |  250.077378 | 98 |   0 | ⋯ | 96 | 6.70 | 99 | 0.1 | 13893.1877 |  3863255 | 2.0 | 2.2 | 0.829 | 15.4 |\n",
       "| Poland | 2010 | Developed | 76.3 |  13 | 2 | 10.59 |  220.491685 | 98 |  13 | ⋯ | 96 | 6.88 | 99 | 0.1 | 12599.5249 |  3842794 | 2.1 | 2.2 | 0.822 | 15.1 |\n",
       "| Poland | 2009 | Developed | 75.7 | 136 | 2 | 10.70 | 1299.159757 | 98 | 115 | ⋯ | 96 | 7.12 | 99 | 0.1 | 11527.5932 |  3815163 | 2.1 | 2.3 | 0.818 | 15.1 |\n",
       "| Poland | 2008 | Developed | 75.5 |  14 | 2 | 11.40 |   15.714748 | 98 |   0 | ⋯ | 96 | 6.88 | 99 | 0.1 |   141.4469 | 38125759 | 2.2 | 2.3 | 0.813 | 15.0 |\n",
       "| Poland | 2007 | Developed | 75.3 | 144 | 2 | 10.90 |   14.304245 | 98 |  40 | ⋯ | 99 | 6.28 | 99 | 0.1 |  1126.3185 |   381256 | 2.2 | 2.4 | 0.808 | 15.0 |\n",
       "| Poland | 2006 | Developed | 75.2 | 144 | 2 | 10.40 |    9.145556 | 98 | 120 | ⋯ | 99 | 6.17 | 99 | 0.1 |    94.7726 | 38141267 | 2.3 | 2.4 | 0.803 | 15.0 |\n",
       "| Poland | 2005 | Developed | 75.0 | 144 | 2 |  9.50 |   79.415027 | 98 |  13 | ⋯ | 99 | 6.20 | 99 | 0.1 |   821.2516 | 38165445 | 2.3 | 2.5 | 0.797 | 14.8 |\n",
       "| Poland | 2004 | Developed | 74.9 | 143 | 2 |  9.19 |  648.074345 | 98 |  11 | ⋯ | 99 | 6.19 | 99 | 0.1 |  6681.1788 | 38182222 | 2.4 | 2.5 | 0.800 | 15.5 |\n",
       "| Poland | 2003 | Developed | 74.7 | 142 | 3 |  9.06 |  542.023500 | 97 |  48 | ⋯ | 98 | 6.22 | 99 | 0.1 |  5693.5242 |   382457 | 2.4 | 2.6 | 0.796 | 15.3 |\n",
       "| Poland | 2002 | Developed | 74.5 | 145 | 3 |  8.02 |  516.055439 | 98 |  34 | ⋯ | 98 | 6.32 | 99 | 0.1 |  5196.9329 |  3823364 | 2.5 | 2.6 | 0.790 | 15.0 |\n",
       "| Poland | 2001 | Developed | 74.2 | 149 | 3 |  7.74 |  466.738311 | 95 | 133 | ⋯ | 98 | 5.86 | 98 | 0.1 |  4981.1986 |  3824876 | 2.5 | 2.7 | 0.784 | 14.7 |\n",
       "| Poland | 2000 | Developed | 73.7 | 153 | 3 |  8.40 |  412.432397 | 99 |  77 | ⋯ | 98 | 5.50 | 98 | 0.1 |  4492.7276 | 38258629 | 2.5 | 2.8 | 0.777 | 14.6 |\n",
       "\n"
      ],
      "text/plain": [
       "   country year status    life_expectancy adult_mortality infant_deaths alcohol\n",
       "1  Poland  2015 Developed 77.5            117             2                NA  \n",
       "2  Poland  2014 Developed 77.3             12             2             10.71  \n",
       "3  Poland  2013 Developed 77.1             12             2             11.63  \n",
       "4  Poland  2012 Developed 76.8            125             2             10.81  \n",
       "5  Poland  2011 Developed 76.7            128             2             10.93  \n",
       "6  Poland  2010 Developed 76.3             13             2             10.59  \n",
       "7  Poland  2009 Developed 75.7            136             2             10.70  \n",
       "8  Poland  2008 Developed 75.5             14             2             11.40  \n",
       "9  Poland  2007 Developed 75.3            144             2             10.90  \n",
       "10 Poland  2006 Developed 75.2            144             2             10.40  \n",
       "11 Poland  2005 Developed 75.0            144             2              9.50  \n",
       "12 Poland  2004 Developed 74.9            143             2              9.19  \n",
       "13 Poland  2003 Developed 74.7            142             3              9.06  \n",
       "14 Poland  2002 Developed 74.5            145             3              8.02  \n",
       "15 Poland  2001 Developed 74.2            149             3              7.74  \n",
       "16 Poland  2000 Developed 73.7            153             3              8.40  \n",
       "   percentage_expenditure hepatitis_B measles ⋯ polio total_expenditure\n",
       "1     0.000000            96            0     ⋯ 92      NA             \n",
       "2   243.808475            96            0     ⋯ 94    6.35             \n",
       "3    23.435335            96           84     ⋯ 95    6.40             \n",
       "4   230.040097            97           71     ⋯ 95    6.62             \n",
       "5   250.077378            98            0     ⋯ 96    6.70             \n",
       "6   220.491685            98           13     ⋯ 96    6.88             \n",
       "7  1299.159757            98          115     ⋯ 96    7.12             \n",
       "8    15.714748            98            0     ⋯ 96    6.88             \n",
       "9    14.304245            98           40     ⋯ 99    6.28             \n",
       "10    9.145556            98          120     ⋯ 99    6.17             \n",
       "11   79.415027            98           13     ⋯ 99    6.20             \n",
       "12  648.074345            98           11     ⋯ 99    6.19             \n",
       "13  542.023500            97           48     ⋯ 98    6.22             \n",
       "14  516.055439            98           34     ⋯ 98    6.32             \n",
       "15  466.738311            95          133     ⋯ 98    5.86             \n",
       "16  412.432397            99           77     ⋯ 98    5.50             \n",
       "   diphtheria HIV_AIDS GDP        population thinness_1_19_years\n",
       "1  98         0.1      12565.9876 37986412   1.9                \n",
       "2  98         0.1      14341.6750  3811735   1.9                \n",
       "3  99         0.1       1378.5491   384196   2.0                \n",
       "4  99         0.1      13145.1484  3863164   2.0                \n",
       "5  99         0.1      13893.1877  3863255   2.0                \n",
       "6  99         0.1      12599.5249  3842794   2.1                \n",
       "7  99         0.1      11527.5932  3815163   2.1                \n",
       "8  99         0.1        141.4469 38125759   2.2                \n",
       "9  99         0.1       1126.3185   381256   2.2                \n",
       "10 99         0.1         94.7726 38141267   2.3                \n",
       "11 99         0.1        821.2516 38165445   2.3                \n",
       "12 99         0.1       6681.1788 38182222   2.4                \n",
       "13 99         0.1       5693.5242   382457   2.4                \n",
       "14 99         0.1       5196.9329  3823364   2.5                \n",
       "15 98         0.1       4981.1986  3824876   2.5                \n",
       "16 98         0.1       4492.7276 38258629   2.5                \n",
       "   thinness_5_9_years income_composition_of_resources schooling\n",
       "1  2.0                0.852                           16.4     \n",
       "2  2.1                0.850                           16.4     \n",
       "3  2.1                0.838                           15.4     \n",
       "4  2.1                0.834                           15.3     \n",
       "5  2.2                0.829                           15.4     \n",
       "6  2.2                0.822                           15.1     \n",
       "7  2.3                0.818                           15.1     \n",
       "8  2.3                0.813                           15.0     \n",
       "9  2.4                0.808                           15.0     \n",
       "10 2.4                0.803                           15.0     \n",
       "11 2.5                0.797                           14.8     \n",
       "12 2.5                0.800                           15.5     \n",
       "13 2.6                0.796                           15.3     \n",
       "14 2.6                0.790                           15.0     \n",
       "15 2.7                0.784                           14.7     \n",
       "16 2.8                0.777                           14.6     "
      ]
     },
     "metadata": {},
     "output_type": "display_data"
    }
   ],
   "source": [
    "poland"
   ]
  },
  {
   "cell_type": "code",
   "execution_count": 30,
   "metadata": {
    "vscode": {
     "languageId": "r"
    }
   },
   "outputs": [
    {
     "name": "stderr",
     "output_type": "stream",
     "text": [
      "Warning message:\n",
      "\"\u001b[1m\u001b[22mRemoved 1 rows containing missing values (`geom_point()`).\"\n"
     ]
    },
    {
     "data": {
      "text/html": [
       "0.442504524305733"
      ],
      "text/latex": [
       "0.442504524305733"
      ],
      "text/markdown": [
       "0.442504524305733"
      ],
      "text/plain": [
       "[1] 0.4425045"
      ]
     },
     "metadata": {},
     "output_type": "display_data"
    },
    {
     "data": {
      "image/png": "[encoded data removed]",
      "text/plain": [
       "plot without title"
      ]
     },
     "metadata": {
      "image/png": {
       "height": 420,
       "width": 420
      }
     },
     "output_type": "display_data"
    }
   ],
   "source": [
    "ggplot(poland, aes(x=alcohol, y=life_expectancy)) + geom_point()\n",
    "cor(data$alcohol, data$life_expectancy, use=\"pairwise.complete.obs\", method=\"spearman\")"
   ]
  },
  {
   "cell_type": "code",
   "execution_count": 43,
   "metadata": {
    "vscode": {
     "languageId": "r"
    }
   },
   "outputs": [
    {
     "name": "stderr",
     "output_type": "stream",
     "text": [
      "Warning message:\n",
      "\"\u001b[1m\u001b[22mRemoved 1 row containing missing values (`geom_line()`).\"\n"
     ]
    },
    {
     "data": {
      "image/png": "[encoded data removed]",
      "text/plain": [
       "plot without title"
      ]
     },
     "metadata": {
      "image/png": {
       "height": 420,
       "width": 420
      }
     },
     "output_type": "display_data"
    }
   ],
   "source": [
    "ggplot(poland, aes(x=year, y=alcohol)) + geom_line(show.legend = FALSE)"
   ]
  },
  {
   "cell_type": "code",
   "execution_count": 42,
   "metadata": {
    "vscode": {
     "languageId": "r"
    }
   },
   "outputs": [
    {
     "name": "stderr",
     "output_type": "stream",
     "text": [
      "Warning message:\n",
      "\"\u001b[1m\u001b[22mRemoved 194 rows containing missing values (`geom_point()`).\"\n"
     ]
    },
    {
     "data": {
      "text/html": [
       "-0.100996001275043"
      ],
      "text/latex": [
       "-0.100996001275043"
      ],
      "text/markdown": [
       "-0.100996001275043"
      ],
      "text/plain": [
       "[1] -0.100996"
      ]
     },
     "metadata": {},
     "output_type": "display_data"
    },
    {
     "data": {
      "image/png": "[encoded data removed]",
      "text/plain": [
       "plot without title"
      ]
     },
     "metadata": {
      "image/png": {
       "height": 420,
       "width": 420
      }
     },
     "output_type": "display_data"
    }
   ],
   "source": [
    "ggplot(data, aes(x=year, y=alcohol)) + geom_point()\n",
    "cor(data$year, data$alcohol, use=\"pairwise.complete.obs\", method=\"spearman\")"
   ]
  }
 ],
 "metadata": {
  "kernelspec": {
   "display_name": "R",
   "language": "R",
   "name": "ir"
  },
  "language_info": {
   "codemirror_mode": "r",
   "file_extension": ".r",
   "mimetype": "text/x-r-source",
   "name": "R",
   "pygments_lexer": "r",
   "version": "4.2.1"
  },
  "orig_nbformat": 4
 },
 "nbformat": 4,
 "nbformat_minor": 2
}
